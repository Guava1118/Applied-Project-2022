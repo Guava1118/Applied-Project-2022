{
 "cells": [
  {
   "cell_type": "code",
   "execution_count": 10,
   "id": "947a75e7",
   "metadata": {},
   "outputs": [],
   "source": [
    "import talib as ta\n",
    "import yfinance as yf\n",
    "import matplotlib.pyplot as plt\n",
    "import numpy as np\n",
    "import pandas as pd"
   ]
  },
  {
   "cell_type": "code",
   "execution_count": 11,
   "id": "7ea629b4",
   "metadata": {},
   "outputs": [],
   "source": [
    "# S&P 500: \n",
    "ticker = yf.Ticker('^GSPC')\n",
    "\n",
    "# Russell 2000: \n",
    "#ticker = yf.Ticker('^RUT')\n",
    "\n",
    "# Nikkei 225: \n",
    "#ticker = yf.Ticker('^N225')\n",
    "\n",
    "\n",
    "# FTSE 100: \n",
    "#ticker = yf.Ticker('^FTSE')\n",
    "\n",
    "# SSE Composite Index: \n",
    "#ticker = yf.Ticker('000001.SS') \n",
    "\n",
    "df = ticker.history(period = '1d', start='1999-08-01', end='2022-06-30')\n",
    "\n",
    "# Dow Jones Industrial Average\n",
    "# ticker = yf.Ticker('^DJI')"
   ]
  },
  {
   "cell_type": "code",
   "execution_count": 12,
   "id": "cfc6aacd",
   "metadata": {},
   "outputs": [
    {
     "data": {
      "text/html": [
       "<div>\n",
       "<style scoped>\n",
       "    .dataframe tbody tr th:only-of-type {\n",
       "        vertical-align: middle;\n",
       "    }\n",
       "\n",
       "    .dataframe tbody tr th {\n",
       "        vertical-align: top;\n",
       "    }\n",
       "\n",
       "    .dataframe thead th {\n",
       "        text-align: right;\n",
       "    }\n",
       "</style>\n",
       "<table border=\"1\" class=\"dataframe\">\n",
       "  <thead>\n",
       "    <tr style=\"text-align: right;\">\n",
       "      <th></th>\n",
       "      <th>Open</th>\n",
       "      <th>High</th>\n",
       "      <th>Low</th>\n",
       "      <th>Close</th>\n",
       "      <th>Volume</th>\n",
       "      <th>Dividends</th>\n",
       "      <th>Stock Splits</th>\n",
       "    </tr>\n",
       "    <tr>\n",
       "      <th>Date</th>\n",
       "      <th></th>\n",
       "      <th></th>\n",
       "      <th></th>\n",
       "      <th></th>\n",
       "      <th></th>\n",
       "      <th></th>\n",
       "      <th></th>\n",
       "    </tr>\n",
       "  </thead>\n",
       "  <tbody>\n",
       "    <tr>\n",
       "      <th>1999-08-02</th>\n",
       "      <td>1328.719971</td>\n",
       "      <td>1344.689941</td>\n",
       "      <td>1325.209961</td>\n",
       "      <td>1328.050049</td>\n",
       "      <td>649550000</td>\n",
       "      <td>0</td>\n",
       "      <td>0</td>\n",
       "    </tr>\n",
       "    <tr>\n",
       "      <th>1999-08-03</th>\n",
       "      <td>1328.050049</td>\n",
       "      <td>1336.130005</td>\n",
       "      <td>1314.910034</td>\n",
       "      <td>1322.180054</td>\n",
       "      <td>739600000</td>\n",
       "      <td>0</td>\n",
       "      <td>0</td>\n",
       "    </tr>\n",
       "    <tr>\n",
       "      <th>1999-08-04</th>\n",
       "      <td>1322.180054</td>\n",
       "      <td>1330.160034</td>\n",
       "      <td>1304.500000</td>\n",
       "      <td>1305.329956</td>\n",
       "      <td>789300000</td>\n",
       "      <td>0</td>\n",
       "      <td>0</td>\n",
       "    </tr>\n",
       "    <tr>\n",
       "      <th>1999-08-05</th>\n",
       "      <td>1305.329956</td>\n",
       "      <td>1313.709961</td>\n",
       "      <td>1287.229980</td>\n",
       "      <td>1313.709961</td>\n",
       "      <td>859300000</td>\n",
       "      <td>0</td>\n",
       "      <td>0</td>\n",
       "    </tr>\n",
       "    <tr>\n",
       "      <th>1999-08-06</th>\n",
       "      <td>1313.709961</td>\n",
       "      <td>1316.739990</td>\n",
       "      <td>1293.189941</td>\n",
       "      <td>1300.290039</td>\n",
       "      <td>698900000</td>\n",
       "      <td>0</td>\n",
       "      <td>0</td>\n",
       "    </tr>\n",
       "    <tr>\n",
       "      <th>...</th>\n",
       "      <td>...</td>\n",
       "      <td>...</td>\n",
       "      <td>...</td>\n",
       "      <td>...</td>\n",
       "      <td>...</td>\n",
       "      <td>...</td>\n",
       "      <td>...</td>\n",
       "    </tr>\n",
       "    <tr>\n",
       "      <th>2022-06-23</th>\n",
       "      <td>3774.709961</td>\n",
       "      <td>3802.580078</td>\n",
       "      <td>3743.520020</td>\n",
       "      <td>3795.729980</td>\n",
       "      <td>4078100000</td>\n",
       "      <td>0</td>\n",
       "      <td>0</td>\n",
       "    </tr>\n",
       "    <tr>\n",
       "      <th>2022-06-24</th>\n",
       "      <td>3821.750000</td>\n",
       "      <td>3913.649902</td>\n",
       "      <td>3821.750000</td>\n",
       "      <td>3911.739990</td>\n",
       "      <td>6742870000</td>\n",
       "      <td>0</td>\n",
       "      <td>0</td>\n",
       "    </tr>\n",
       "    <tr>\n",
       "      <th>2022-06-27</th>\n",
       "      <td>3920.760010</td>\n",
       "      <td>3927.719971</td>\n",
       "      <td>3889.659912</td>\n",
       "      <td>3900.110107</td>\n",
       "      <td>3385120000</td>\n",
       "      <td>0</td>\n",
       "      <td>0</td>\n",
       "    </tr>\n",
       "    <tr>\n",
       "      <th>2022-06-28</th>\n",
       "      <td>3913.000000</td>\n",
       "      <td>3945.860107</td>\n",
       "      <td>3820.139893</td>\n",
       "      <td>3821.550049</td>\n",
       "      <td>3590980000</td>\n",
       "      <td>0</td>\n",
       "      <td>0</td>\n",
       "    </tr>\n",
       "    <tr>\n",
       "      <th>2022-06-29</th>\n",
       "      <td>3825.090088</td>\n",
       "      <td>3836.500000</td>\n",
       "      <td>3799.020020</td>\n",
       "      <td>3818.830078</td>\n",
       "      <td>3458850000</td>\n",
       "      <td>0</td>\n",
       "      <td>0</td>\n",
       "    </tr>\n",
       "  </tbody>\n",
       "</table>\n",
       "<p>5766 rows × 7 columns</p>\n",
       "</div>"
      ],
      "text/plain": [
       "                   Open         High          Low        Close      Volume  \\\n",
       "Date                                                                         \n",
       "1999-08-02  1328.719971  1344.689941  1325.209961  1328.050049   649550000   \n",
       "1999-08-03  1328.050049  1336.130005  1314.910034  1322.180054   739600000   \n",
       "1999-08-04  1322.180054  1330.160034  1304.500000  1305.329956   789300000   \n",
       "1999-08-05  1305.329956  1313.709961  1287.229980  1313.709961   859300000   \n",
       "1999-08-06  1313.709961  1316.739990  1293.189941  1300.290039   698900000   \n",
       "...                 ...          ...          ...          ...         ...   \n",
       "2022-06-23  3774.709961  3802.580078  3743.520020  3795.729980  4078100000   \n",
       "2022-06-24  3821.750000  3913.649902  3821.750000  3911.739990  6742870000   \n",
       "2022-06-27  3920.760010  3927.719971  3889.659912  3900.110107  3385120000   \n",
       "2022-06-28  3913.000000  3945.860107  3820.139893  3821.550049  3590980000   \n",
       "2022-06-29  3825.090088  3836.500000  3799.020020  3818.830078  3458850000   \n",
       "\n",
       "            Dividends  Stock Splits  \n",
       "Date                                 \n",
       "1999-08-02          0             0  \n",
       "1999-08-03          0             0  \n",
       "1999-08-04          0             0  \n",
       "1999-08-05          0             0  \n",
       "1999-08-06          0             0  \n",
       "...               ...           ...  \n",
       "2022-06-23          0             0  \n",
       "2022-06-24          0             0  \n",
       "2022-06-27          0             0  \n",
       "2022-06-28          0             0  \n",
       "2022-06-29          0             0  \n",
       "\n",
       "[5766 rows x 7 columns]"
      ]
     },
     "execution_count": 12,
     "metadata": {},
     "output_type": "execute_result"
    }
   ],
   "source": [
    "df"
   ]
  },
  {
   "cell_type": "code",
   "execution_count": 13,
   "id": "f1c85a07",
   "metadata": {},
   "outputs": [
    {
     "data": {
      "image/png": "[encoded data removed]",
      "text/plain": [
       "<Figure size 1152x720 with 1 Axes>"
      ]
     },
     "metadata": {
      "needs_background": "light"
     },
     "output_type": "display_data"
    }
   ],
   "source": [
    "# SMA\n",
    "periods=[5,10,20]\n",
    "\n",
    "for i in periods:\n",
    "    df['MA_'+str(i)+'d']=ta.SMA(df.Close,timeperiod=i)\n",
    "\n",
    "df.loc['2000-01-04':,['Close','MA_5d','MA_10d','MA_20d']].plot(figsize=(16,10))\n",
    "ax = plt.gca()  \n",
    "ax.spines['right'].set_color('none') \n",
    "ax.spines['top'].set_color('none')   \n",
    "plt.title('Moving Average',fontsize=15)\n",
    "plt.xlabel('')\n",
    "plt.show()"
   ]
  },
  {
   "cell_type": "code",
   "execution_count": 14,
   "id": "7638fea3",
   "metadata": {},
   "outputs": [
    {
     "data": {
      "image/png": "[encoded data removed]",
      "text/plain": [
       "<Figure size 1152x432 with 1 Axes>"
      ]
     },
     "metadata": {
      "needs_background": "light"
     },
     "output_type": "display_data"
    }
   ],
   "source": [
    "# RSI\n",
    "df['RSI']=ta.RSI(df.Close,timeperiod=15)\n",
    "\n",
    "df.loc['2010-01-04':,['RSI']].plot(figsize=(16,6))\n",
    "ax = plt.gca()  \n",
    "ax.spines['right'].set_color('none') \n",
    "ax.spines['top'].set_color('none')   \n",
    "plt.title('15-period RSI',fontsize=15)\n",
    "plt.xlabel('')\n",
    "plt.show()"
   ]
  },
  {
   "cell_type": "code",
   "execution_count": 15,
   "id": "fd1697ed",
   "metadata": {},
   "outputs": [],
   "source": [
    "# Var\n",
    "df['Var'] = ta.VAR(df.Close, timeperiod=5, nbdev=1)"
   ]
  },
  {
   "cell_type": "code",
   "execution_count": 16,
   "id": "f3dcda6b",
   "metadata": {},
   "outputs": [],
   "source": [
    "# calculate log return \n",
    "df['Return_1d'] = np.log(df['Close']/df['Close'].shift(1)).dropna()\n",
    "df['Return_5d'] = np.log(df['Close']/df['Close'].shift(5)).dropna()\n",
    "df['Return_10d'] = np.log(df['Close']/df['Close'].shift(10)).dropna()\n",
    "df['Return_20d'] = np.log(df['Close']/df['Close'].shift(20)).dropna()"
   ]
  },
  {
   "cell_type": "code",
   "execution_count": 17,
   "id": "08cc2832",
   "metadata": {},
   "outputs": [],
   "source": [
    "# ADX\n",
    "df['ADX'] = ta.ADX(df.High, df.Low, df.Close, timeperiod=14)"
   ]
  },
  {
   "cell_type": "code",
   "execution_count": 18,
   "id": "ec326a9e",
   "metadata": {},
   "outputs": [],
   "source": [
    "# MACD\n",
    "macd, df['MACD_sig'], macdhist = ta.MACD(df.Close,fastperiod=12, slowperiod=26, signalperiod=9)"
   ]
  },
  {
   "cell_type": "code",
   "execution_count": 19,
   "id": "b8a0c693",
   "metadata": {},
   "outputs": [],
   "source": [
    "# ADOSC - Chaikin A/D Oscillator\n",
    "df['ADOsc'] = ta.ADOSC(df.High, df.Low, df.Close, df.Volume, fastperiod=3, slowperiod=10)"
   ]
  },
  {
   "cell_type": "code",
   "execution_count": 20,
   "id": "e69e5b73",
   "metadata": {},
   "outputs": [],
   "source": [
    "# Hammer\n",
    "df['Hammer'] = ta.CDLHAMMER(df.Open, df.High, df.Low, df.Close)"
   ]
  },
  {
   "cell_type": "code",
   "execution_count": 21,
   "id": "936d7af8",
   "metadata": {},
   "outputs": [],
   "source": [
    "# Morning Star\n",
    "df['MorningStar'] = ta.CDLMORNINGSTAR(df.Open, df.High, df.Low, df.Close)"
   ]
  },
  {
   "cell_type": "code",
   "execution_count": 22,
   "id": "0cede784",
   "metadata": {},
   "outputs": [],
   "source": [
    "# Hammer\n",
    "df['InvHammer'] = ta.CDLINVERTEDHAMMER(df.Open, df.High, df.Low, df.Close)"
   ]
  },
  {
   "cell_type": "code",
   "execution_count": 23,
   "id": "7347d84a",
   "metadata": {},
   "outputs": [],
   "source": [
    "# Evening Star\n",
    "df['EveningStar'] = ta.CDLEVENINGSTAR(df.Open, df.High, df.Low, df.Close)"
   ]
  },
  {
   "cell_type": "code",
   "execution_count": 24,
   "id": "417acf5d",
   "metadata": {},
   "outputs": [],
   "source": [
    "# Three Black Crows\n",
    "df['3BlkCrows'] = ta.CDL3BLACKCROWS(df.Open, df.High, df.Low, df.Close)"
   ]
  },
  {
   "cell_type": "code",
   "execution_count": 25,
   "id": "3e596374",
   "metadata": {},
   "outputs": [
    {
     "data": {
      "text/plain": [
       "Return_1d       1.000000\n",
       "Return_5d       0.432632\n",
       "Return_10d      0.312353\n",
       "RSI             0.294608\n",
       "Return_20d      0.219207\n",
       "ADOsc           0.162360\n",
       "MorningStar     0.116825\n",
       "EveningStar     0.074307\n",
       "Close           0.019738\n",
       "Low             0.011841\n",
       "High            0.009433\n",
       "ADX             0.005979\n",
       "MA_5d           0.003143\n",
       "MA_10d          0.001663\n",
       "Open            0.001296\n",
       "MA_20d          0.001126\n",
       "MACD_sig       -0.001254\n",
       "InvHammer      -0.022384\n",
       "Hammer         -0.024211\n",
       "Volume         -0.025283\n",
       "Var            -0.097802\n",
       "Dividends            NaN\n",
       "Stock Splits         NaN\n",
       "3BlkCrows            NaN\n",
       "Name: Return_1d, dtype: float64"
      ]
     },
     "execution_count": 25,
     "metadata": {},
     "output_type": "execute_result"
    }
   ],
   "source": [
    "corrDF = df.corr()\n",
    "corrDF['Return_1d'].sort_values(ascending=False)"
   ]
  },
  {
   "cell_type": "code",
   "execution_count": 26,
   "id": "a33d49ec",
   "metadata": {},
   "outputs": [],
   "source": [
    "# training set\n",
    "X = pd.concat([df['RSI'],\n",
    "               #df['Close'],\n",
    "               #df['Low'],\n",
    "               df['ADX'],\n",
    "               #df['Volume'],\n",
    "               df['Var'],\n",
    "               #df['MACD_sig'],\n",
    "               df['ADOsc'],\n",
    "               #df['Hammer'], \n",
    "               df['MorningStar'], \n",
    "               #df['InvHammer'], \n",
    "               #df['EveningStar'], \n",
    "               # df['3BlkCrows'],\n",
    "               #df['MA_10d'],df['MA_20d'],\n",
    "               df['Return_1d'],df['Return_5d'],\n",
    "               df['Return_10d']],\n",
    "               #df['Return_20d']],\n",
    "               axis=1)"
   ]
  },
  {
   "cell_type": "code",
   "execution_count": 27,
   "id": "374a2b6d",
   "metadata": {},
   "outputs": [
    {
     "data": {
      "text/plain": [
       "count    5765.000000\n",
       "mean        0.000183\n",
       "std         0.012452\n",
       "min        -0.127652\n",
       "25%        -0.004837\n",
       "50%         0.000594\n",
       "75%         0.005878\n",
       "max         0.109572\n",
       "Name: Return_1d, dtype: float64"
      ]
     },
     "execution_count": 27,
     "metadata": {},
     "output_type": "execute_result"
    }
   ],
   "source": [
    "df['Return_1d'].describe()"
   ]
  },
  {
   "cell_type": "code",
   "execution_count": 28,
   "id": "2035d874",
   "metadata": {},
   "outputs": [],
   "source": [
    "# df['Class'] = df['Return_1d'].map(lambda x: 1 if x >= 0.005 else (0 if x>-0.005 and x<0.005 else -1))\n",
    "df['Class'] = df['Return_1d'].map(lambda x: 1 if x > 0 else -1)\n",
    "y = df['Class']"
   ]
  },
  {
   "cell_type": "code",
   "execution_count": 29,
   "id": "bcc5595f",
   "metadata": {},
   "outputs": [
    {
     "data": {
      "text/html": [
       "<div>\n",
       "<style scoped>\n",
       "    .dataframe tbody tr th:only-of-type {\n",
       "        vertical-align: middle;\n",
       "    }\n",
       "\n",
       "    .dataframe tbody tr th {\n",
       "        vertical-align: top;\n",
       "    }\n",
       "\n",
       "    .dataframe thead th {\n",
       "        text-align: right;\n",
       "    }\n",
       "</style>\n",
       "<table border=\"1\" class=\"dataframe\">\n",
       "  <thead>\n",
       "    <tr style=\"text-align: right;\">\n",
       "      <th></th>\n",
       "      <th>RSI</th>\n",
       "      <th>ADX</th>\n",
       "      <th>Var</th>\n",
       "      <th>ADOsc</th>\n",
       "      <th>MorningStar</th>\n",
       "      <th>Return_1d</th>\n",
       "      <th>Return_5d</th>\n",
       "      <th>Return_10d</th>\n",
       "    </tr>\n",
       "    <tr>\n",
       "      <th>Date</th>\n",
       "      <th></th>\n",
       "      <th></th>\n",
       "      <th></th>\n",
       "      <th></th>\n",
       "      <th></th>\n",
       "      <th></th>\n",
       "      <th></th>\n",
       "      <th></th>\n",
       "    </tr>\n",
       "  </thead>\n",
       "  <tbody>\n",
       "    <tr>\n",
       "      <th>1999-08-02</th>\n",
       "      <td>NaN</td>\n",
       "      <td>NaN</td>\n",
       "      <td>NaN</td>\n",
       "      <td>NaN</td>\n",
       "      <td>0</td>\n",
       "      <td>NaN</td>\n",
       "      <td>NaN</td>\n",
       "      <td>NaN</td>\n",
       "    </tr>\n",
       "    <tr>\n",
       "      <th>1999-08-03</th>\n",
       "      <td>NaN</td>\n",
       "      <td>NaN</td>\n",
       "      <td>NaN</td>\n",
       "      <td>NaN</td>\n",
       "      <td>0</td>\n",
       "      <td>-0.004430</td>\n",
       "      <td>NaN</td>\n",
       "      <td>NaN</td>\n",
       "    </tr>\n",
       "    <tr>\n",
       "      <th>1999-08-04</th>\n",
       "      <td>NaN</td>\n",
       "      <td>NaN</td>\n",
       "      <td>NaN</td>\n",
       "      <td>NaN</td>\n",
       "      <td>0</td>\n",
       "      <td>-0.012826</td>\n",
       "      <td>NaN</td>\n",
       "      <td>NaN</td>\n",
       "    </tr>\n",
       "    <tr>\n",
       "      <th>1999-08-05</th>\n",
       "      <td>NaN</td>\n",
       "      <td>NaN</td>\n",
       "      <td>NaN</td>\n",
       "      <td>NaN</td>\n",
       "      <td>0</td>\n",
       "      <td>0.006399</td>\n",
       "      <td>NaN</td>\n",
       "      <td>NaN</td>\n",
       "    </tr>\n",
       "    <tr>\n",
       "      <th>1999-08-06</th>\n",
       "      <td>NaN</td>\n",
       "      <td>NaN</td>\n",
       "      <td>105.499051</td>\n",
       "      <td>NaN</td>\n",
       "      <td>0</td>\n",
       "      <td>-0.010268</td>\n",
       "      <td>NaN</td>\n",
       "      <td>NaN</td>\n",
       "    </tr>\n",
       "    <tr>\n",
       "      <th>...</th>\n",
       "      <td>...</td>\n",
       "      <td>...</td>\n",
       "      <td>...</td>\n",
       "      <td>...</td>\n",
       "      <td>...</td>\n",
       "      <td>...</td>\n",
       "      <td>...</td>\n",
       "      <td>...</td>\n",
       "    </tr>\n",
       "    <tr>\n",
       "      <th>2022-06-23</th>\n",
       "      <td>40.891577</td>\n",
       "      <td>26.686114</td>\n",
       "      <td>2687.186598</td>\n",
       "      <td>2.446902e+07</td>\n",
       "      <td>0</td>\n",
       "      <td>0.009487</td>\n",
       "      <td>0.001513</td>\n",
       "      <td>-0.080949</td>\n",
       "    </tr>\n",
       "    <tr>\n",
       "      <th>2022-06-24</th>\n",
       "      <td>48.137522</td>\n",
       "      <td>25.299872</td>\n",
       "      <td>5857.490353</td>\n",
       "      <td>2.651094e+09</td>\n",
       "      <td>0</td>\n",
       "      <td>0.030106</td>\n",
       "      <td>0.064671</td>\n",
       "      <td>-0.026757</td>\n",
       "    </tr>\n",
       "    <tr>\n",
       "      <th>2022-06-27</th>\n",
       "      <td>47.511930</td>\n",
       "      <td>23.857275</td>\n",
       "      <td>4375.222424</td>\n",
       "      <td>2.999002e+09</td>\n",
       "      <td>0</td>\n",
       "      <td>-0.002977</td>\n",
       "      <td>0.059495</td>\n",
       "      <td>-0.000192</td>\n",
       "    </tr>\n",
       "    <tr>\n",
       "      <th>2022-06-28</th>\n",
       "      <td>43.427235</td>\n",
       "      <td>23.177821</td>\n",
       "      <td>3490.720772</td>\n",
       "      <td>1.751739e+09</td>\n",
       "      <td>0</td>\n",
       "      <td>-0.020349</td>\n",
       "      <td>0.014964</td>\n",
       "      <td>0.018999</td>\n",
       "    </tr>\n",
       "    <tr>\n",
       "      <th>2022-06-29</th>\n",
       "      <td>43.289177</td>\n",
       "      <td>22.735810</td>\n",
       "      <td>2209.643176</td>\n",
       "      <td>1.145088e+09</td>\n",
       "      <td>0</td>\n",
       "      <td>-0.000712</td>\n",
       "      <td>0.015554</td>\n",
       "      <td>0.022068</td>\n",
       "    </tr>\n",
       "  </tbody>\n",
       "</table>\n",
       "<p>5766 rows × 8 columns</p>\n",
       "</div>"
      ],
      "text/plain": [
       "                  RSI        ADX          Var         ADOsc  MorningStar  \\\n",
       "Date                                                                       \n",
       "1999-08-02        NaN        NaN          NaN           NaN            0   \n",
       "1999-08-03        NaN        NaN          NaN           NaN            0   \n",
       "1999-08-04        NaN        NaN          NaN           NaN            0   \n",
       "1999-08-05        NaN        NaN          NaN           NaN            0   \n",
       "1999-08-06        NaN        NaN   105.499051           NaN            0   \n",
       "...               ...        ...          ...           ...          ...   \n",
       "2022-06-23  40.891577  26.686114  2687.186598  2.446902e+07            0   \n",
       "2022-06-24  48.137522  25.299872  5857.490353  2.651094e+09            0   \n",
       "2022-06-27  47.511930  23.857275  4375.222424  2.999002e+09            0   \n",
       "2022-06-28  43.427235  23.177821  3490.720772  1.751739e+09            0   \n",
       "2022-06-29  43.289177  22.735810  2209.643176  1.145088e+09            0   \n",
       "\n",
       "            Return_1d  Return_5d  Return_10d  \n",
       "Date                                          \n",
       "1999-08-02        NaN        NaN         NaN  \n",
       "1999-08-03  -0.004430        NaN         NaN  \n",
       "1999-08-04  -0.012826        NaN         NaN  \n",
       "1999-08-05   0.006399        NaN         NaN  \n",
       "1999-08-06  -0.010268        NaN         NaN  \n",
       "...               ...        ...         ...  \n",
       "2022-06-23   0.009487   0.001513   -0.080949  \n",
       "2022-06-24   0.030106   0.064671   -0.026757  \n",
       "2022-06-27  -0.002977   0.059495   -0.000192  \n",
       "2022-06-28  -0.020349   0.014964    0.018999  \n",
       "2022-06-29  -0.000712   0.015554    0.022068  \n",
       "\n",
       "[5766 rows x 8 columns]"
      ]
     },
     "execution_count": 29,
     "metadata": {},
     "output_type": "execute_result"
    }
   ],
   "source": [
    "X"
   ]
  },
  {
   "cell_type": "code",
   "execution_count": 30,
   "id": "4876d33d",
   "metadata": {},
   "outputs": [],
   "source": [
    "X = X.reset_index() "
   ]
  },
  {
   "cell_type": "code",
   "execution_count": 31,
   "id": "496e411a",
   "metadata": {},
   "outputs": [],
   "source": [
    "y = y.reset_index()"
   ]
  },
  {
   "cell_type": "code",
   "execution_count": 32,
   "id": "94d455e7",
   "metadata": {},
   "outputs": [],
   "source": [
    "# rolling window data split\n",
    "\n",
    "X_train = []\n",
    "X_test = []\n",
    "y_train = []\n",
    "y_test = []\n",
    "\n",
    "start_yr = 2005\n",
    "end_yr = 2012\n",
    "\n",
    "for i,year in enumerate(range(start_yr,end_yr)):\n",
    "    X_train.append(pd.DataFrame(X.loc[(X['Date'] >= (str(year)+ '-01-01')) & (X['Date'] <= str(year+9)+ '-12-31')].drop('Date',axis=1)))\n",
    "    X_test.append(pd.DataFrame(X.loc[(X['Date'] >= (str(year+10)+ '-01-01')) & (X['Date'] <= str(year+10)+ '-12-31')].drop('Date',axis=1)))\n",
    "    y_train.append(y.iloc[X_train[i].index[0]+1:X_train[i].index[-1]+2].Class)\n",
    "    y_test.append(y.iloc[X_test[i].index[0]+1:X_test[i].index[-1]+2].Class)"
   ]
  },
  {
   "cell_type": "code",
   "execution_count": 33,
   "id": "bd948c4c",
   "metadata": {},
   "outputs": [],
   "source": [
    "# expanding window data split\n",
    "\n",
    "X_train = []\n",
    "X_test = []\n",
    "y_train = []\n",
    "y_test = []\n",
    "\n",
    "start_yr = 2005\n",
    "end_yr = 2021\n",
    "\n",
    "for i,year in enumerate(range(start_yr+9,end_yr)):\n",
    "    \n",
    "    X_train.append(pd.DataFrame(X.loc[(X['Date'] >= (str(start_yr)+'-01-01')) & (X['Date'] <= str(year)+'-12-31')].drop('Date',axis=1)))\n",
    "    X_test.append(pd.DataFrame(X.loc[(X['Date'] >= (str(year+1)+'-01-01')) & (X['Date'] <= str(year+1)+'-12-31')].drop('Date',axis=1)))\n",
    "    y_train.append(y.iloc[X_train[i].index[0]+1:X_train[i].index[-1]+2].Class)\n",
    "    y_test.append(y.iloc[X_test[i].index[0]+1:X_test[i].index[-1]+2].Class)"
   ]
  },
  {
   "cell_type": "code",
   "execution_count": 34,
   "id": "98689b25",
   "metadata": {},
   "outputs": [],
   "source": [
    "for i in range(len(X_train)):\n",
    "    if X_train[i].shape[0] != y_train[i].shape[0]:\n",
    "        print(i)\n",
    "    if X_test[i].shape[0] != y_test[i].shape[0]:\n",
    "        print(i)"
   ]
  },
  {
   "cell_type": "code",
   "execution_count": 35,
   "id": "6f2df376",
   "metadata": {},
   "outputs": [],
   "source": [
    "from sklearn.svm import SVC\n",
    "from sklearn.pipeline import Pipeline\n",
    "from sklearn.preprocessing import StandardScaler\n",
    "from sklearn.model_selection import GridSearchCV\n",
    "\n",
    "\n",
    "def SVCkernel():\n",
    "    return Pipeline(\n",
    "        [\n",
    "            (\"std_scaler\",StandardScaler()),\n",
    "            (\"kernelsvc\",SVC(kernel=\"rbf\",gamma=0.1,C=1,degree=3))        \n",
    "        ]\n",
    "    )\n",
    "    \n",
    "svm = SVCkernel()"
   ]
  },
  {
   "cell_type": "code",
   "execution_count": 36,
   "id": "21ca68b2",
   "metadata": {},
   "outputs": [
    {
     "data": {
      "text/plain": [
       "'\\nparam_grid = {\\n    \\'C\\': [0.1, 1, 10], \\n    \\'gamma\\': [0.001, 0.01, 0.1, 1, 2, 3], \\n}\\n\\nsvm = GridSearchCV(\\n    SVC(class_weight=\"balanced\",kernel=\\'rbf\\'), param_grid\\n)\\nsvm = svm.fit(X_train[0], y_train[0])\\nprint(svm.best_params_)\\n\\n'"
      ]
     },
     "execution_count": 36,
     "metadata": {},
     "output_type": "execute_result"
    }
   ],
   "source": [
    "'''\n",
    "param_grid = {\n",
    "    'C': [0.1, 1, 10], \n",
    "    'gamma': [0.001, 0.01, 0.1, 1, 2, 3], \n",
    "}\n",
    "\n",
    "svm = GridSearchCV(\n",
    "    SVC(class_weight=\"balanced\",kernel='rbf'), param_grid\n",
    ")\n",
    "svm = svm.fit(X_train[0], y_train[0])\n",
    "print(svm.best_params_)\n",
    "\n",
    "'''"
   ]
  },
  {
   "cell_type": "code",
   "execution_count": 37,
   "id": "e2130a7c",
   "metadata": {},
   "outputs": [],
   "source": [
    "# predictions by year\n",
    "y_pred = []\n",
    "for i in range(len(X_train)):\n",
    "    svm.fit(X_train[i], y_train[i])\n",
    "    pred = svm.predict(X_test[i])\n",
    "    y_pred.append(pred) "
   ]
  },
  {
   "cell_type": "code",
   "execution_count": 38,
   "id": "aa24882c",
   "metadata": {},
   "outputs": [],
   "source": [
    "# all predictions for a single stock\n",
    "single_len_pred = []\n",
    "for arr in y_pred:\n",
    "    for ele in arr:\n",
    "        single_len_pred.append(ele)\n",
    "\n",
    "single_len_test = []\n",
    "for arr in y_test:\n",
    "    for ele in arr:\n",
    "        single_len_test.append(ele)        "
   ]
  },
  {
   "cell_type": "code",
   "execution_count": 39,
   "id": "36499828",
   "metadata": {},
   "outputs": [],
   "source": [
    "# S&P 500\n",
    "sp_pred = single_len_pred\n",
    "sp_test = single_len_test"
   ]
  },
  {
   "cell_type": "code",
   "execution_count": 40,
   "id": "a2c284ff",
   "metadata": {},
   "outputs": [],
   "source": [
    "# Russell 2000\n",
    "# russell_pred = single_len_pred\n",
    "# russell_test = single_len_test"
   ]
  },
  {
   "cell_type": "code",
   "execution_count": 41,
   "id": "2216d992",
   "metadata": {},
   "outputs": [],
   "source": [
    "# Nikkei 225\n",
    "# nikkei_pred = single_len_pred\n",
    "# nikkei_test = single_len_test"
   ]
  },
  {
   "cell_type": "code",
   "execution_count": 42,
   "id": "7f34f6a7",
   "metadata": {},
   "outputs": [],
   "source": [
    "# SSE Composite Index\n",
    "#sse_pred = single_len_pred\n",
    "#sse_test = single_len_test"
   ]
  },
  {
   "cell_type": "markdown",
   "id": "54ba71e9",
   "metadata": {},
   "source": [
    "### Evaluation Metrics for Binary Classification"
   ]
  },
  {
   "cell_type": "code",
   "execution_count": 43,
   "id": "40cd7555",
   "metadata": {},
   "outputs": [],
   "source": [
    "from sklearn.metrics import accuracy_score, precision_score, recall_score, f1_score,roc_auc_score"
   ]
  },
  {
   "cell_type": "code",
   "execution_count": 44,
   "id": "20957a40",
   "metadata": {},
   "outputs": [],
   "source": [
    "acc_sum,pre_sum,rec_sum, f1_sum = 0,0,0,0\n",
    "for i in range(len(y_pred)):\n",
    "    acc_sum += accuracy_score(y_test[i], y_pred[i])\n",
    "    pre_sum += precision_score(y_test[i], y_pred[i])\n",
    "    rec_sum += recall_score(y_test[i], y_pred[i])\n",
    "    f1_sum += f1_score(y_test[i], y_pred[i])\n",
    "    \n",
    "n = len(y_pred)\n",
    "avg_acc = acc_sum / n\n",
    "avg_pre = pre_sum / n\n",
    "avg_rec = rec_sum / n\n",
    "avg_f1 = f1_sum / n"
   ]
  },
  {
   "cell_type": "code",
   "execution_count": 45,
   "id": "fb9ac693",
   "metadata": {},
   "outputs": [
    {
     "data": {
      "text/html": [
       "<div>\n",
       "<style scoped>\n",
       "    .dataframe tbody tr th:only-of-type {\n",
       "        vertical-align: middle;\n",
       "    }\n",
       "\n",
       "    .dataframe tbody tr th {\n",
       "        vertical-align: top;\n",
       "    }\n",
       "\n",
       "    .dataframe thead th {\n",
       "        text-align: right;\n",
       "    }\n",
       "</style>\n",
       "<table border=\"1\" class=\"dataframe\">\n",
       "  <thead>\n",
       "    <tr style=\"text-align: right;\">\n",
       "      <th></th>\n",
       "      <th>Accuracy</th>\n",
       "      <th>Precision</th>\n",
       "      <th>Recall</th>\n",
       "      <th>F1</th>\n",
       "    </tr>\n",
       "  </thead>\n",
       "  <tbody>\n",
       "    <tr>\n",
       "      <th>SVM</th>\n",
       "      <td>0.546777</td>\n",
       "      <td>0.549748</td>\n",
       "      <td>0.93469</td>\n",
       "      <td>0.691273</td>\n",
       "    </tr>\n",
       "  </tbody>\n",
       "</table>\n",
       "</div>"
      ],
      "text/plain": [
       "     Accuracy  Precision   Recall        F1\n",
       "SVM  0.546777   0.549748  0.93469  0.691273"
      ]
     },
     "execution_count": 45,
     "metadata": {},
     "output_type": "execute_result"
    }
   ],
   "source": [
    "metrics_tbl = pd.DataFrame.from_records([[avg_acc,avg_pre,avg_rec,avg_f1]], \n",
    "                          columns=['Accuracy', 'Precision','Recall','F1'], \n",
    "                          index=['SVM'])\n",
    "metrics_tbl"
   ]
  },
  {
   "cell_type": "code",
   "execution_count": 46,
   "id": "3d94d86c",
   "metadata": {},
   "outputs": [],
   "source": [
    "from sklearn import metrics\n",
    "auc = metrics.roc_auc_score(single_len_test, single_len_pred)"
   ]
  },
  {
   "cell_type": "code",
   "execution_count": 47,
   "id": "5e22cf20",
   "metadata": {},
   "outputs": [
    {
     "data": {
      "image/png": "[encoded data removed]",
      "text/plain": [
       "<Figure size 400x400 with 1 Axes>"
      ]
     },
     "metadata": {
      "needs_background": "light"
     },
     "output_type": "display_data"
    }
   ],
   "source": [
    "fp_rate, tp_rate, thresolds = metrics.roc_curve(single_len_test, single_len_pred)\n",
    "\n",
    "plt.figure(figsize=(4, 4), dpi=100)\n",
    "plt.axis('scaled')\n",
    "plt.xlim([0, 1])\n",
    "plt.ylim([0, 1])\n",
    "plt.title(\"AUC & ROC Curve\")\n",
    "plt.plot(fp_rate, tp_rate, 'b')\n",
    "plt.fill_between(fp_rate, tp_rate, facecolor='lightblue', alpha=0.7)\n",
    "plt.text(0.95, 0.05, 'AUC = %0.4f' % auc, ha='right', fontsize=12, weight='bold', color='blue')\n",
    "plt.xlabel(\"False Positive Rate\")\n",
    "plt.ylabel(\"True Positive Rate\")\n",
    "plt.show()"
   ]
  },
  {
   "cell_type": "code",
   "execution_count": 48,
   "id": "f8ece2d5",
   "metadata": {},
   "outputs": [],
   "source": [
    "test_start = 2015\n",
    "test_end = 2022\n",
    "\n",
    "base_rtns = []\n",
    "svm_rtns = []\n",
    "\n",
    "# get log returns by year\n",
    "for i in range(0,len(range(test_start,test_end))):\n",
    "    base = X['Return_1d'][y_test[i].index[0]:y_test[i].index[-1]+1]\n",
    "    svm = X['Return_1d'][y_test[i].index[0]:y_test[i].index[-1]+1]*y_pred[i]\n",
    "    base_rtns.append(base)\n",
    "    svm_rtns.append(svm)"
   ]
  },
  {
   "cell_type": "code",
   "execution_count": 49,
   "id": "2ce47a19",
   "metadata": {},
   "outputs": [],
   "source": [
    "# get simple annual return the total return \n",
    "def get_returns(rtns_arr):\n",
    "    ttl_rtn = 0\n",
    "    annual_rtns = []\n",
    "    for rtns in rtns_arr:\n",
    "        annual_rtn = np.exp(sum(rtns))-1\n",
    "        annual_rtns.append(annual_rtn)\n",
    "        ttl_rtn += annual_rtn\n",
    "    return annual_rtns, ttl_rtn"
   ]
  },
  {
   "cell_type": "code",
   "execution_count": 50,
   "id": "a5669dd8",
   "metadata": {},
   "outputs": [],
   "source": [
    "base_annu_rtn, base_ttl_rtn = get_returns(base_rtns)"
   ]
  },
  {
   "cell_type": "code",
   "execution_count": 51,
   "id": "cbc81de7",
   "metadata": {},
   "outputs": [],
   "source": [
    "svm_annu_rtn, svm_ttl_rtn = get_returns(svm_rtns)"
   ]
  },
  {
   "cell_type": "code",
   "execution_count": 52,
   "id": "c076dca7",
   "metadata": {},
   "outputs": [
    {
     "data": {
      "text/html": [
       "<div>\n",
       "<style scoped>\n",
       "    .dataframe tbody tr th:only-of-type {\n",
       "        vertical-align: middle;\n",
       "    }\n",
       "\n",
       "    .dataframe tbody tr th {\n",
       "        vertical-align: top;\n",
       "    }\n",
       "\n",
       "    .dataframe thead th {\n",
       "        text-align: right;\n",
       "    }\n",
       "</style>\n",
       "<table border=\"1\" class=\"dataframe\">\n",
       "  <thead>\n",
       "    <tr style=\"text-align: right;\">\n",
       "      <th></th>\n",
       "      <th>Buy and Hold</th>\n",
       "      <th>ML Strategy</th>\n",
       "    </tr>\n",
       "  </thead>\n",
       "  <tbody>\n",
       "    <tr>\n",
       "      <th>2015</th>\n",
       "      <td>-2.21%</td>\n",
       "      <td>5.59%</td>\n",
       "    </tr>\n",
       "    <tr>\n",
       "      <th>2016</th>\n",
       "      <td>12.18%</td>\n",
       "      <td>17.99%</td>\n",
       "    </tr>\n",
       "    <tr>\n",
       "      <th>2017</th>\n",
       "      <td>19.40%</td>\n",
       "      <td>21.56%</td>\n",
       "    </tr>\n",
       "    <tr>\n",
       "      <th>2018</th>\n",
       "      <td>-6.89%</td>\n",
       "      <td>0.77%</td>\n",
       "    </tr>\n",
       "    <tr>\n",
       "      <th>2019</th>\n",
       "      <td>29.79%</td>\n",
       "      <td>24.06%</td>\n",
       "    </tr>\n",
       "    <tr>\n",
       "      <th>2020</th>\n",
       "      <td>13.59%</td>\n",
       "      <td>42.96%</td>\n",
       "    </tr>\n",
       "    <tr>\n",
       "      <th>2021</th>\n",
       "      <td>29.61%</td>\n",
       "      <td>26.53%</td>\n",
       "    </tr>\n",
       "    <tr>\n",
       "      <th>mean</th>\n",
       "      <td>13.64%</td>\n",
       "      <td>19.92%</td>\n",
       "    </tr>\n",
       "    <tr>\n",
       "      <th>total</th>\n",
       "      <td>95.47%</td>\n",
       "      <td>139.47%</td>\n",
       "    </tr>\n",
       "  </tbody>\n",
       "</table>\n",
       "</div>"
      ],
      "text/plain": [
       "      Buy and Hold ML Strategy\n",
       "2015        -2.21%       5.59%\n",
       "2016        12.18%      17.99%\n",
       "2017        19.40%      21.56%\n",
       "2018        -6.89%       0.77%\n",
       "2019        29.79%      24.06%\n",
       "2020        13.59%      42.96%\n",
       "2021        29.61%      26.53%\n",
       "mean        13.64%      19.92%\n",
       "total       95.47%     139.47%"
      ]
     },
     "execution_count": 52,
     "metadata": {},
     "output_type": "execute_result"
    }
   ],
   "source": [
    "# returns summary\n",
    "rtn_tbl = pd.DataFrame.from_records([['{:.2%}'.format(base_annu_rtn[i]),'{:.2%}'.format(svm_annu_rtn[i])] for i in range(len(base_rtns))], \n",
    "                          columns=['Buy and Hold', 'ML Strategy'], \n",
    "                          index=[year for year in range(test_start,test_end)])\n",
    "\n",
    "rtn_tbl.loc['mean'] = ['{:.2%}'.format(base_ttl_rtn/(test_end-test_start)),\n",
    "                        '{:.2%}'.format(svm_ttl_rtn/(test_end-test_start))]\n",
    "rtn_tbl.loc['total'] = ['{:.2%}'.format(base_ttl_rtn),'{:.2%}'.format(svm_ttl_rtn)]\n",
    "rtn_tbl"
   ]
  },
  {
   "cell_type": "markdown",
   "id": "9d0cfff6",
   "metadata": {},
   "source": [
    "### Sharpe Ratio\n",
    "#### sharpe ratio = yearly return / yearly std"
   ]
  },
  {
   "cell_type": "code",
   "execution_count": 53,
   "id": "6a1fceac",
   "metadata": {},
   "outputs": [],
   "source": [
    "# Sharpe ratio\n",
    "rf = 0.03\n",
    "\n",
    "def get_sharpe(rtn_arr):\n",
    "    sharpes = []\n",
    "    stds = []\n",
    "    for i in range(0,len(rtn_arr)):\n",
    "        stds.append(np.std(rtn_arr[i])*np.sqrt(252))\n",
    "        sharpes.append((sum(rtn_arr[i]) - rf) / stds[i])\n",
    "    return stds,sharpes"
   ]
  },
  {
   "cell_type": "code",
   "execution_count": 54,
   "id": "17f045b1",
   "metadata": {},
   "outputs": [],
   "source": [
    "base_vols, base_sharpes = get_sharpe(base_rtns)\n",
    "svm_vols, svm_sharpes = get_sharpe(svm_rtns)"
   ]
  },
  {
   "cell_type": "code",
   "execution_count": 55,
   "id": "7d07acd3",
   "metadata": {},
   "outputs": [],
   "source": [
    "sharpe_tbl = pd.DataFrame.from_records([[base_sharpes[i],svm_sharpes[i]] for i in range(0,len(base_sharpes))], \n",
    "                          columns=['Buy and Hold', 'ML Strategy'], \n",
    "                          index=[year for year in range(test_start,test_end)])\n",
    "sharpe_tbl.loc['mean']=[sharpe_tbl['Buy and Hold'].mean(),sharpe_tbl['ML Strategy'].mean()]\n",
    "sharpe_tbl.loc['std']=[sharpe_tbl['Buy and Hold'].std(),sharpe_tbl['ML Strategy'].std()]"
   ]
  },
  {
   "cell_type": "code",
   "execution_count": 56,
   "id": "9dbec44c",
   "metadata": {},
   "outputs": [
    {
     "data": {
      "text/html": [
       "<div>\n",
       "<style scoped>\n",
       "    .dataframe tbody tr th:only-of-type {\n",
       "        vertical-align: middle;\n",
       "    }\n",
       "\n",
       "    .dataframe tbody tr th {\n",
       "        vertical-align: top;\n",
       "    }\n",
       "\n",
       "    .dataframe thead th {\n",
       "        text-align: right;\n",
       "    }\n",
       "</style>\n",
       "<table border=\"1\" class=\"dataframe\">\n",
       "  <thead>\n",
       "    <tr style=\"text-align: right;\">\n",
       "      <th></th>\n",
       "      <th>Buy and Hold</th>\n",
       "      <th>ML Strategy</th>\n",
       "    </tr>\n",
       "  </thead>\n",
       "  <tbody>\n",
       "    <tr>\n",
       "      <th>2015</th>\n",
       "      <td>-0.336718</td>\n",
       "      <td>0.156995</td>\n",
       "    </tr>\n",
       "    <tr>\n",
       "      <th>2016</th>\n",
       "      <td>0.652694</td>\n",
       "      <td>1.042233</td>\n",
       "    </tr>\n",
       "    <tr>\n",
       "      <th>2017</th>\n",
       "      <td>2.207677</td>\n",
       "      <td>2.484545</td>\n",
       "    </tr>\n",
       "    <tr>\n",
       "      <th>2018</th>\n",
       "      <td>-0.594958</td>\n",
       "      <td>-0.130948</td>\n",
       "    </tr>\n",
       "    <tr>\n",
       "      <th>2019</th>\n",
       "      <td>1.848225</td>\n",
       "      <td>1.482285</td>\n",
       "    </tr>\n",
       "    <tr>\n",
       "      <th>2020</th>\n",
       "      <td>0.281264</td>\n",
       "      <td>0.946815</td>\n",
       "    </tr>\n",
       "    <tr>\n",
       "      <th>2021</th>\n",
       "      <td>1.765160</td>\n",
       "      <td>1.577810</td>\n",
       "    </tr>\n",
       "    <tr>\n",
       "      <th>mean</th>\n",
       "      <td>0.831906</td>\n",
       "      <td>1.079962</td>\n",
       "    </tr>\n",
       "    <tr>\n",
       "      <th>std</th>\n",
       "      <td>1.037412</td>\n",
       "      <td>0.821140</td>\n",
       "    </tr>\n",
       "  </tbody>\n",
       "</table>\n",
       "</div>"
      ],
      "text/plain": [
       "      Buy and Hold  ML Strategy\n",
       "2015     -0.336718     0.156995\n",
       "2016      0.652694     1.042233\n",
       "2017      2.207677     2.484545\n",
       "2018     -0.594958    -0.130948\n",
       "2019      1.848225     1.482285\n",
       "2020      0.281264     0.946815\n",
       "2021      1.765160     1.577810\n",
       "mean      0.831906     1.079962\n",
       "std       1.037412     0.821140"
      ]
     },
     "execution_count": 56,
     "metadata": {},
     "output_type": "execute_result"
    }
   ],
   "source": [
    "sharpe_tbl"
   ]
  },
  {
   "cell_type": "code",
   "execution_count": null,
   "id": "4618cc4f",
   "metadata": {},
   "outputs": [],
   "source": []
  }
 ],
 "metadata": {
  "kernelspec": {
   "display_name": "Python 3 (ipykernel)",
   "language": "python",
   "name": "python3"
  },
  "language_info": {
   "codemirror_mode": {
    "name": "ipython",
    "version": 3
   },
   "file_extension": ".py",
   "mimetype": "text/x-python",
   "name": "python",
   "nbconvert_exporter": "python",
   "pygments_lexer": "ipython3",
   "version": "3.9.12"
  }
 },
 "nbformat": 4,
 "nbformat_minor": 5
}
