{
 "cells": [
  {
   "cell_type": "code",
   "execution_count": 616,
   "metadata": {
    "id": "pCJfiy70mH3w"
   },
   "outputs": [],
   "source": [
    "import numpy as np\n",
    "import pandas as pd\n",
    "import yfinance as yf"
   ]
  },
  {
   "cell_type": "code",
   "execution_count": 617,
   "metadata": {
    "id": "RACQJpe5jpCL"
   },
   "outputs": [],
   "source": [
    "# Information Technology Sector\n",
    "#ticker = yf.Ticker('^GSPC')\n",
    "#ticker = yf.Ticker('MSFT')\n",
    "ticker = yf.Ticker('KO')\n",
    "df = ticker.history(period = '1d', start='1999-01-01', end='2022-06-30')"
   ]
  },
  {
   "cell_type": "code",
   "execution_count": 618,
   "metadata": {
    "id": "WyerkasbnxsM"
   },
   "outputs": [],
   "source": [
    "df = df.reset_index()"
   ]
  },
  {
   "cell_type": "code",
   "execution_count": 619,
   "metadata": {},
   "outputs": [],
   "source": [
    "# check zeros and drop the columns\n",
    "if len(np.unique(df['Dividends'])):\n",
    "    df=df.drop(['Dividends'],axis=1)\n",
    "    \n",
    "if len(np.unique(df['Stock Splits'])):\n",
    "    df=df.drop(['Stock Splits'],axis=1)"
   ]
  },
  {
   "cell_type": "code",
   "execution_count": 620,
   "metadata": {
    "colab": {
     "base_uri": "https://localhost:8080/"
    },
    "id": "NJ7IFV0PvxN3",
    "outputId": "c1f25686-0982-4be9-b8a5-5cab9d8ce7af"
   },
   "outputs": [
    {
     "name": "stdout",
     "output_type": "stream",
     "text": [
      "<class 'pandas.core.frame.DataFrame'>\n",
      "RangeIndex: 5912 entries, 0 to 5911\n",
      "Data columns (total 6 columns):\n",
      " #   Column  Non-Null Count  Dtype         \n",
      "---  ------  --------------  -----         \n",
      " 0   Date    5912 non-null   datetime64[ns]\n",
      " 1   Open    5912 non-null   float64       \n",
      " 2   High    5912 non-null   float64       \n",
      " 3   Low     5912 non-null   float64       \n",
      " 4   Close   5912 non-null   float64       \n",
      " 5   Volume  5912 non-null   int64         \n",
      "dtypes: datetime64[ns](1), float64(4), int64(1)\n",
      "memory usage: 277.2 KB\n"
     ]
    }
   ],
   "source": [
    "df.info()"
   ]
  },
  {
   "cell_type": "code",
   "execution_count": 621,
   "metadata": {},
   "outputs": [
    {
     "data": {
      "text/plain": [
       "0.2161381854138127"
      ]
     },
     "execution_count": 621,
     "metadata": {},
     "output_type": "execute_result"
    }
   ],
   "source": [
    "daily_std = np.std(df['Close']/df['Close'].shift(1).dropna())\n",
    "annual_std = daily_std*np.sqrt(252)\n",
    "annual_std"
   ]
  },
  {
   "cell_type": "code",
   "execution_count": 622,
   "metadata": {
    "colab": {
     "base_uri": "https://localhost:8080/",
     "height": 405
    },
    "id": "-2V-olBVlkbb",
    "outputId": "2f8e10da-fed3-4b21-e877-ca59e8fddae4"
   },
   "outputs": [
    {
     "data": {
      "image/png": "[encoded data removed]",
      "text/plain": [
       "<Figure size 864x360 with 1 Axes>"
      ]
     },
     "metadata": {
      "needs_background": "light"
     },
     "output_type": "display_data"
    }
   ],
   "source": [
    "import matplotlib.pyplot as plt\n",
    "import matplotlib.dates as mdates\n",
    "plt.figure(figsize=(12,5))\n",
    "\n",
    "plt.plot(df['Date'],df['Close'])\n",
    "plt.gca().xaxis.set_major_formatter(mdates.DateFormatter('%y-%m-%d'))\n",
    "plt.xticks(rotation=-20)\n",
    "plt.title('S&P500 Index') # manually change\n",
    "plt.show()"
   ]
  },
  {
   "cell_type": "code",
   "execution_count": 623,
   "metadata": {},
   "outputs": [],
   "source": [
    "import talib as ta\n",
    "\n",
    "periods=[7,14,21]\n",
    "\n",
    "for i in periods:\n",
    "    df['MA_'+str(i)+'d']=ta.SMA(df.Close,timeperiod=i)"
   ]
  },
  {
   "cell_type": "code",
   "execution_count": 624,
   "metadata": {},
   "outputs": [],
   "source": [
    "df['HML'] = df['High'] - df['Low']\n",
    "df['OTC'] = df['Close'] - df['Open']\n",
    "df['Var'] = ta.VAR(df.Close, timeperiod=7, nbdev=1)"
   ]
  },
  {
   "cell_type": "code",
   "execution_count": 625,
   "metadata": {},
   "outputs": [
    {
     "data": {
      "text/html": [
       "<div>\n",
       "<style scoped>\n",
       "    .dataframe tbody tr th:only-of-type {\n",
       "        vertical-align: middle;\n",
       "    }\n",
       "\n",
       "    .dataframe tbody tr th {\n",
       "        vertical-align: top;\n",
       "    }\n",
       "\n",
       "    .dataframe thead th {\n",
       "        text-align: right;\n",
       "    }\n",
       "</style>\n",
       "<table border=\"1\" class=\"dataframe\">\n",
       "  <thead>\n",
       "    <tr style=\"text-align: right;\">\n",
       "      <th></th>\n",
       "      <th>Date</th>\n",
       "      <th>Open</th>\n",
       "      <th>High</th>\n",
       "      <th>Low</th>\n",
       "      <th>Close</th>\n",
       "      <th>Volume</th>\n",
       "      <th>MA_7d</th>\n",
       "      <th>MA_14d</th>\n",
       "      <th>MA_21d</th>\n",
       "      <th>HML</th>\n",
       "      <th>OTC</th>\n",
       "      <th>Var</th>\n",
       "    </tr>\n",
       "  </thead>\n",
       "  <tbody>\n",
       "    <tr>\n",
       "      <th>0</th>\n",
       "      <td>2000-01-03</td>\n",
       "      <td>15.664130</td>\n",
       "      <td>15.664130</td>\n",
       "      <td>14.921434</td>\n",
       "      <td>15.225265</td>\n",
       "      <td>10997000</td>\n",
       "      <td>15.813635</td>\n",
       "      <td>15.929378</td>\n",
       "      <td>16.269178</td>\n",
       "      <td>0.742696</td>\n",
       "      <td>-0.438866</td>\n",
       "      <td>0.069880</td>\n",
       "    </tr>\n",
       "    <tr>\n",
       "      <th>1</th>\n",
       "      <td>2000-01-04</td>\n",
       "      <td>15.225263</td>\n",
       "      <td>15.343419</td>\n",
       "      <td>15.022710</td>\n",
       "      <td>15.242143</td>\n",
       "      <td>7308000</td>\n",
       "      <td>15.705125</td>\n",
       "      <td>15.836541</td>\n",
       "      <td>16.116459</td>\n",
       "      <td>0.320710</td>\n",
       "      <td>0.016879</td>\n",
       "      <td>0.099710</td>\n",
       "    </tr>\n",
       "    <tr>\n",
       "      <th>2</th>\n",
       "      <td>2000-01-05</td>\n",
       "      <td>15.242142</td>\n",
       "      <td>15.512213</td>\n",
       "      <td>15.140865</td>\n",
       "      <td>15.377177</td>\n",
       "      <td>9457400</td>\n",
       "      <td>15.606259</td>\n",
       "      <td>15.779874</td>\n",
       "      <td>16.017795</td>\n",
       "      <td>0.371348</td>\n",
       "      <td>0.135036</td>\n",
       "      <td>0.086360</td>\n",
       "    </tr>\n",
       "    <tr>\n",
       "      <th>3</th>\n",
       "      <td>2000-01-06</td>\n",
       "      <td>15.377173</td>\n",
       "      <td>15.579726</td>\n",
       "      <td>15.275896</td>\n",
       "      <td>15.394053</td>\n",
       "      <td>7129200</td>\n",
       "      <td>15.524272</td>\n",
       "      <td>15.750938</td>\n",
       "      <td>15.992073</td>\n",
       "      <td>0.303830</td>\n",
       "      <td>0.016879</td>\n",
       "      <td>0.067381</td>\n",
       "    </tr>\n",
       "    <tr>\n",
       "      <th>4</th>\n",
       "      <td>2000-01-07</td>\n",
       "      <td>15.630377</td>\n",
       "      <td>16.406832</td>\n",
       "      <td>15.630377</td>\n",
       "      <td>16.406832</td>\n",
       "      <td>11474000</td>\n",
       "      <td>15.594201</td>\n",
       "      <td>15.770230</td>\n",
       "      <td>16.001718</td>\n",
       "      <td>0.776455</td>\n",
       "      <td>0.776455</td>\n",
       "      <td>0.151694</td>\n",
       "    </tr>\n",
       "    <tr>\n",
       "      <th>...</th>\n",
       "      <td>...</td>\n",
       "      <td>...</td>\n",
       "      <td>...</td>\n",
       "      <td>...</td>\n",
       "      <td>...</td>\n",
       "      <td>...</td>\n",
       "      <td>...</td>\n",
       "      <td>...</td>\n",
       "      <td>...</td>\n",
       "      <td>...</td>\n",
       "      <td>...</td>\n",
       "      <td>...</td>\n",
       "    </tr>\n",
       "    <tr>\n",
       "      <th>5654</th>\n",
       "      <td>2022-06-23</td>\n",
       "      <td>61.299999</td>\n",
       "      <td>61.910000</td>\n",
       "      <td>61.230000</td>\n",
       "      <td>61.880001</td>\n",
       "      <td>17190900</td>\n",
       "      <td>60.161429</td>\n",
       "      <td>61.037766</td>\n",
       "      <td>61.836692</td>\n",
       "      <td>0.680000</td>\n",
       "      <td>0.580002</td>\n",
       "      <td>1.008014</td>\n",
       "    </tr>\n",
       "    <tr>\n",
       "      <th>5655</th>\n",
       "      <td>2022-06-24</td>\n",
       "      <td>62.110001</td>\n",
       "      <td>63.060001</td>\n",
       "      <td>62.110001</td>\n",
       "      <td>63.040001</td>\n",
       "      <td>18147100</td>\n",
       "      <td>60.705715</td>\n",
       "      <td>61.075029</td>\n",
       "      <td>61.811894</td>\n",
       "      <td>0.950001</td>\n",
       "      <td>0.930000</td>\n",
       "      <td>1.771569</td>\n",
       "    </tr>\n",
       "    <tr>\n",
       "      <th>5656</th>\n",
       "      <td>2022-06-27</td>\n",
       "      <td>62.980000</td>\n",
       "      <td>63.290001</td>\n",
       "      <td>62.630001</td>\n",
       "      <td>62.910000</td>\n",
       "      <td>12142100</td>\n",
       "      <td>61.168572</td>\n",
       "      <td>61.110099</td>\n",
       "      <td>61.778540</td>\n",
       "      <td>0.660000</td>\n",
       "      <td>-0.070000</td>\n",
       "      <td>2.098213</td>\n",
       "    </tr>\n",
       "    <tr>\n",
       "      <th>5657</th>\n",
       "      <td>2022-06-28</td>\n",
       "      <td>63.080002</td>\n",
       "      <td>63.759998</td>\n",
       "      <td>62.110001</td>\n",
       "      <td>62.279999</td>\n",
       "      <td>13150100</td>\n",
       "      <td>61.627143</td>\n",
       "      <td>61.073220</td>\n",
       "      <td>61.704313</td>\n",
       "      <td>1.649998</td>\n",
       "      <td>-0.800003</td>\n",
       "      <td>1.435249</td>\n",
       "    </tr>\n",
       "    <tr>\n",
       "      <th>5658</th>\n",
       "      <td>2022-06-29</td>\n",
       "      <td>62.540001</td>\n",
       "      <td>63.110001</td>\n",
       "      <td>62.430000</td>\n",
       "      <td>62.730000</td>\n",
       "      <td>11795500</td>\n",
       "      <td>62.098572</td>\n",
       "      <td>61.094014</td>\n",
       "      <td>61.633549</td>\n",
       "      <td>0.680000</td>\n",
       "      <td>0.189999</td>\n",
       "      <td>0.697126</td>\n",
       "    </tr>\n",
       "  </tbody>\n",
       "</table>\n",
       "<p>5659 rows × 12 columns</p>\n",
       "</div>"
      ],
      "text/plain": [
       "           Date       Open       High        Low      Close    Volume  \\\n",
       "0    2000-01-03  15.664130  15.664130  14.921434  15.225265  10997000   \n",
       "1    2000-01-04  15.225263  15.343419  15.022710  15.242143   7308000   \n",
       "2    2000-01-05  15.242142  15.512213  15.140865  15.377177   9457400   \n",
       "3    2000-01-06  15.377173  15.579726  15.275896  15.394053   7129200   \n",
       "4    2000-01-07  15.630377  16.406832  15.630377  16.406832  11474000   \n",
       "...         ...        ...        ...        ...        ...       ...   \n",
       "5654 2022-06-23  61.299999  61.910000  61.230000  61.880001  17190900   \n",
       "5655 2022-06-24  62.110001  63.060001  62.110001  63.040001  18147100   \n",
       "5656 2022-06-27  62.980000  63.290001  62.630001  62.910000  12142100   \n",
       "5657 2022-06-28  63.080002  63.759998  62.110001  62.279999  13150100   \n",
       "5658 2022-06-29  62.540001  63.110001  62.430000  62.730000  11795500   \n",
       "\n",
       "          MA_7d     MA_14d     MA_21d       HML       OTC       Var  \n",
       "0     15.813635  15.929378  16.269178  0.742696 -0.438866  0.069880  \n",
       "1     15.705125  15.836541  16.116459  0.320710  0.016879  0.099710  \n",
       "2     15.606259  15.779874  16.017795  0.371348  0.135036  0.086360  \n",
       "3     15.524272  15.750938  15.992073  0.303830  0.016879  0.067381  \n",
       "4     15.594201  15.770230  16.001718  0.776455  0.776455  0.151694  \n",
       "...         ...        ...        ...       ...       ...       ...  \n",
       "5654  60.161429  61.037766  61.836692  0.680000  0.580002  1.008014  \n",
       "5655  60.705715  61.075029  61.811894  0.950001  0.930000  1.771569  \n",
       "5656  61.168572  61.110099  61.778540  0.660000 -0.070000  2.098213  \n",
       "5657  61.627143  61.073220  61.704313  1.649998 -0.800003  1.435249  \n",
       "5658  62.098572  61.094014  61.633549  0.680000  0.189999  0.697126  \n",
       "\n",
       "[5659 rows x 12 columns]"
      ]
     },
     "execution_count": 625,
     "metadata": {},
     "output_type": "execute_result"
    }
   ],
   "source": [
    "df = df[df['Date']>='2000-01-01'].reset_index(drop=True)\n",
    "df"
   ]
  },
  {
   "cell_type": "code",
   "execution_count": 626,
   "metadata": {
    "id": "oszGwTiz3ihF"
   },
   "outputs": [],
   "source": [
    "df_adj = df[df.columns[1:]]"
   ]
  },
  {
   "cell_type": "code",
   "execution_count": 627,
   "metadata": {},
   "outputs": [
    {
     "data": {
      "text/html": [
       "<div>\n",
       "<style scoped>\n",
       "    .dataframe tbody tr th:only-of-type {\n",
       "        vertical-align: middle;\n",
       "    }\n",
       "\n",
       "    .dataframe tbody tr th {\n",
       "        vertical-align: top;\n",
       "    }\n",
       "\n",
       "    .dataframe thead th {\n",
       "        text-align: right;\n",
       "    }\n",
       "</style>\n",
       "<table border=\"1\" class=\"dataframe\">\n",
       "  <thead>\n",
       "    <tr style=\"text-align: right;\">\n",
       "      <th></th>\n",
       "      <th>Open</th>\n",
       "      <th>High</th>\n",
       "      <th>Low</th>\n",
       "      <th>Close</th>\n",
       "      <th>Volume</th>\n",
       "      <th>MA_7d</th>\n",
       "      <th>MA_14d</th>\n",
       "      <th>MA_21d</th>\n",
       "      <th>HML</th>\n",
       "      <th>OTC</th>\n",
       "      <th>Var</th>\n",
       "    </tr>\n",
       "  </thead>\n",
       "  <tbody>\n",
       "    <tr>\n",
       "      <th>0</th>\n",
       "      <td>15.664130</td>\n",
       "      <td>15.664130</td>\n",
       "      <td>14.921434</td>\n",
       "      <td>15.225265</td>\n",
       "      <td>10997000</td>\n",
       "      <td>15.813635</td>\n",
       "      <td>15.929378</td>\n",
       "      <td>16.269178</td>\n",
       "      <td>0.742696</td>\n",
       "      <td>-0.438866</td>\n",
       "      <td>0.069880</td>\n",
       "    </tr>\n",
       "    <tr>\n",
       "      <th>1</th>\n",
       "      <td>15.225263</td>\n",
       "      <td>15.343419</td>\n",
       "      <td>15.022710</td>\n",
       "      <td>15.242143</td>\n",
       "      <td>7308000</td>\n",
       "      <td>15.705125</td>\n",
       "      <td>15.836541</td>\n",
       "      <td>16.116459</td>\n",
       "      <td>0.320710</td>\n",
       "      <td>0.016879</td>\n",
       "      <td>0.099710</td>\n",
       "    </tr>\n",
       "    <tr>\n",
       "      <th>2</th>\n",
       "      <td>15.242142</td>\n",
       "      <td>15.512213</td>\n",
       "      <td>15.140865</td>\n",
       "      <td>15.377177</td>\n",
       "      <td>9457400</td>\n",
       "      <td>15.606259</td>\n",
       "      <td>15.779874</td>\n",
       "      <td>16.017795</td>\n",
       "      <td>0.371348</td>\n",
       "      <td>0.135036</td>\n",
       "      <td>0.086360</td>\n",
       "    </tr>\n",
       "    <tr>\n",
       "      <th>3</th>\n",
       "      <td>15.377173</td>\n",
       "      <td>15.579726</td>\n",
       "      <td>15.275896</td>\n",
       "      <td>15.394053</td>\n",
       "      <td>7129200</td>\n",
       "      <td>15.524272</td>\n",
       "      <td>15.750938</td>\n",
       "      <td>15.992073</td>\n",
       "      <td>0.303830</td>\n",
       "      <td>0.016879</td>\n",
       "      <td>0.067381</td>\n",
       "    </tr>\n",
       "    <tr>\n",
       "      <th>4</th>\n",
       "      <td>15.630377</td>\n",
       "      <td>16.406832</td>\n",
       "      <td>15.630377</td>\n",
       "      <td>16.406832</td>\n",
       "      <td>11474000</td>\n",
       "      <td>15.594201</td>\n",
       "      <td>15.770230</td>\n",
       "      <td>16.001718</td>\n",
       "      <td>0.776455</td>\n",
       "      <td>0.776455</td>\n",
       "      <td>0.151694</td>\n",
       "    </tr>\n",
       "    <tr>\n",
       "      <th>...</th>\n",
       "      <td>...</td>\n",
       "      <td>...</td>\n",
       "      <td>...</td>\n",
       "      <td>...</td>\n",
       "      <td>...</td>\n",
       "      <td>...</td>\n",
       "      <td>...</td>\n",
       "      <td>...</td>\n",
       "      <td>...</td>\n",
       "      <td>...</td>\n",
       "      <td>...</td>\n",
       "    </tr>\n",
       "    <tr>\n",
       "      <th>5654</th>\n",
       "      <td>61.299999</td>\n",
       "      <td>61.910000</td>\n",
       "      <td>61.230000</td>\n",
       "      <td>61.880001</td>\n",
       "      <td>17190900</td>\n",
       "      <td>60.161429</td>\n",
       "      <td>61.037766</td>\n",
       "      <td>61.836692</td>\n",
       "      <td>0.680000</td>\n",
       "      <td>0.580002</td>\n",
       "      <td>1.008014</td>\n",
       "    </tr>\n",
       "    <tr>\n",
       "      <th>5655</th>\n",
       "      <td>62.110001</td>\n",
       "      <td>63.060001</td>\n",
       "      <td>62.110001</td>\n",
       "      <td>63.040001</td>\n",
       "      <td>18147100</td>\n",
       "      <td>60.705715</td>\n",
       "      <td>61.075029</td>\n",
       "      <td>61.811894</td>\n",
       "      <td>0.950001</td>\n",
       "      <td>0.930000</td>\n",
       "      <td>1.771569</td>\n",
       "    </tr>\n",
       "    <tr>\n",
       "      <th>5656</th>\n",
       "      <td>62.980000</td>\n",
       "      <td>63.290001</td>\n",
       "      <td>62.630001</td>\n",
       "      <td>62.910000</td>\n",
       "      <td>12142100</td>\n",
       "      <td>61.168572</td>\n",
       "      <td>61.110099</td>\n",
       "      <td>61.778540</td>\n",
       "      <td>0.660000</td>\n",
       "      <td>-0.070000</td>\n",
       "      <td>2.098213</td>\n",
       "    </tr>\n",
       "    <tr>\n",
       "      <th>5657</th>\n",
       "      <td>63.080002</td>\n",
       "      <td>63.759998</td>\n",
       "      <td>62.110001</td>\n",
       "      <td>62.279999</td>\n",
       "      <td>13150100</td>\n",
       "      <td>61.627143</td>\n",
       "      <td>61.073220</td>\n",
       "      <td>61.704313</td>\n",
       "      <td>1.649998</td>\n",
       "      <td>-0.800003</td>\n",
       "      <td>1.435249</td>\n",
       "    </tr>\n",
       "    <tr>\n",
       "      <th>5658</th>\n",
       "      <td>62.540001</td>\n",
       "      <td>63.110001</td>\n",
       "      <td>62.430000</td>\n",
       "      <td>62.730000</td>\n",
       "      <td>11795500</td>\n",
       "      <td>62.098572</td>\n",
       "      <td>61.094014</td>\n",
       "      <td>61.633549</td>\n",
       "      <td>0.680000</td>\n",
       "      <td>0.189999</td>\n",
       "      <td>0.697126</td>\n",
       "    </tr>\n",
       "  </tbody>\n",
       "</table>\n",
       "<p>5659 rows × 11 columns</p>\n",
       "</div>"
      ],
      "text/plain": [
       "           Open       High        Low      Close    Volume      MA_7d  \\\n",
       "0     15.664130  15.664130  14.921434  15.225265  10997000  15.813635   \n",
       "1     15.225263  15.343419  15.022710  15.242143   7308000  15.705125   \n",
       "2     15.242142  15.512213  15.140865  15.377177   9457400  15.606259   \n",
       "3     15.377173  15.579726  15.275896  15.394053   7129200  15.524272   \n",
       "4     15.630377  16.406832  15.630377  16.406832  11474000  15.594201   \n",
       "...         ...        ...        ...        ...       ...        ...   \n",
       "5654  61.299999  61.910000  61.230000  61.880001  17190900  60.161429   \n",
       "5655  62.110001  63.060001  62.110001  63.040001  18147100  60.705715   \n",
       "5656  62.980000  63.290001  62.630001  62.910000  12142100  61.168572   \n",
       "5657  63.080002  63.759998  62.110001  62.279999  13150100  61.627143   \n",
       "5658  62.540001  63.110001  62.430000  62.730000  11795500  62.098572   \n",
       "\n",
       "         MA_14d     MA_21d       HML       OTC       Var  \n",
       "0     15.929378  16.269178  0.742696 -0.438866  0.069880  \n",
       "1     15.836541  16.116459  0.320710  0.016879  0.099710  \n",
       "2     15.779874  16.017795  0.371348  0.135036  0.086360  \n",
       "3     15.750938  15.992073  0.303830  0.016879  0.067381  \n",
       "4     15.770230  16.001718  0.776455  0.776455  0.151694  \n",
       "...         ...        ...       ...       ...       ...  \n",
       "5654  61.037766  61.836692  0.680000  0.580002  1.008014  \n",
       "5655  61.075029  61.811894  0.950001  0.930000  1.771569  \n",
       "5656  61.110099  61.778540  0.660000 -0.070000  2.098213  \n",
       "5657  61.073220  61.704313  1.649998 -0.800003  1.435249  \n",
       "5658  61.094014  61.633549  0.680000  0.189999  0.697126  \n",
       "\n",
       "[5659 rows x 11 columns]"
      ]
     },
     "execution_count": 627,
     "metadata": {},
     "output_type": "execute_result"
    }
   ],
   "source": [
    "df_adj"
   ]
  },
  {
   "cell_type": "code",
   "execution_count": 628,
   "metadata": {
    "id": "2Bg2eJc-vSUX"
   },
   "outputs": [],
   "source": [
    "# split dataset\n",
    "\n",
    "def split_data(df):\n",
    "    split_num = int(len(df)*0.8)\n",
    "    train = df[0:split_num]\n",
    "    test = df[split_num:]\n",
    "    \n",
    "    return train,test"
   ]
  },
  {
   "cell_type": "code",
   "execution_count": 629,
   "metadata": {},
   "outputs": [],
   "source": [
    "train,test = split_data(df_adj)"
   ]
  },
  {
   "cell_type": "code",
   "execution_count": 630,
   "metadata": {},
   "outputs": [
    {
     "data": {
      "text/plain": [
       "array([[0.1722769 , 0.16761571, 0.15066811, ..., 0.37426392, 0.36053607,\n",
       "        0.03650598],\n",
       "       [0.15771621, 0.1569739 , 0.15407801, ..., 0.14581518, 0.5335692 ,\n",
       "        0.05215835],\n",
       "       [0.15827605, 0.16257474, 0.15805585, ..., 0.17322896, 0.57842964,\n",
       "        0.04515266],\n",
       "       ...,\n",
       "       [0.96453937, 0.96457219, 0.97699779, ..., 0.08930144, 0.5632979 ,\n",
       "        0.02028719],\n",
       "       [0.97028082, 0.96686885, 0.98020205, ..., 0.07524732, 0.53701574,\n",
       "        0.01520047],\n",
       "       [0.97056803, 0.96830471, 0.97787163, ..., 0.13614547, 0.46474234,\n",
       "        0.01584034]])"
      ]
     },
     "execution_count": 630,
     "metadata": {},
     "output_type": "execute_result"
    }
   ],
   "source": [
    "train_norm"
   ]
  },
  {
   "cell_type": "code",
   "execution_count": 631,
   "metadata": {
    "id": "koSp-Qdw0895"
   },
   "outputs": [],
   "source": [
    "# normalization\n",
    "from sklearn.preprocessing import MinMaxScaler\n",
    "\n",
    "scaler = MinMaxScaler(feature_range=(0, 1))\n",
    "\n",
    "def norm_data(train,test):\n",
    "    train_norm = scaler.fit_transform(train)\n",
    "    test_norm = scaler.fit_transform(test)\n",
    "    \n",
    "    return train_norm,test_norm"
   ]
  },
  {
   "cell_type": "code",
   "execution_count": 632,
   "metadata": {},
   "outputs": [],
   "source": [
    "train_norm,test_norm = norm_data(train,test)"
   ]
  },
  {
   "cell_type": "code",
   "execution_count": 633,
   "metadata": {
    "colab": {
     "base_uri": "https://localhost:8080/"
    },
    "id": "jUKVG-Sy68Xd",
    "outputId": "9473c692-421f-495a-96ae-991486419889"
   },
   "outputs": [],
   "source": [
    "# construct and finalize dataset\n",
    "\n",
    "# divide data into 30/50 rows per input\n",
    "timesteps = 30\n",
    "\n",
    "def finalize(norm_df):\n",
    "\n",
    "    X, y = [], []\n",
    "\n",
    "    for i in range(timesteps, len(norm_df)):\n",
    "        X.append(norm_df[i - timesteps:i])\n",
    "        y.append(norm_df[i,3])\n",
    "\n",
    "    X, y = np.array(X), np.array(y)\n",
    "    \n",
    "    return X,y"
   ]
  },
  {
   "cell_type": "code",
   "execution_count": 634,
   "metadata": {
    "colab": {
     "base_uri": "https://localhost:8080/"
    },
    "id": "jUKVG-Sy68Xd",
    "outputId": "9473c692-421f-495a-96ae-991486419889"
   },
   "outputs": [],
   "source": [
    "X_train, y_train = finalize(train_norm)\n",
    "X_test, y_test = finalize(test_norm)"
   ]
  },
  {
   "cell_type": "code",
   "execution_count": 635,
   "metadata": {
    "id": "Yrj6ytj6BOSD"
   },
   "outputs": [],
   "source": [
    "from pandas._libs.tslibs import timestamps\n",
    "# data prediction\n",
    "from keras import Input\n",
    "from keras.models import Sequential, Model\n",
    "from keras.layers import SimpleRNN, LSTM, Dense, Dropout, Activation, Reshape,Bidirectional   \n",
    "\n",
    "epochs = 50\n",
    "\n",
    "# iteration number of batches \n",
    "# trial: 32/64/128\n",
    "batch_size = 25\n",
    "\n",
    "output_dim = 1\n",
    "units = 30"
   ]
  },
  {
   "cell_type": "code",
   "execution_count": 636,
   "metadata": {},
   "outputs": [],
   "source": [
    "# LSTM model\n",
    "\n",
    "def lstm_model(X_train,y_train,X_test):\n",
    "    \n",
    "    n_features = X_train.shape[-1]\n",
    "    \n",
    "    #model = Sequential()\n",
    "    #model.add(Bidirectional(LSTM(64, activation='relu', dropout=0.2), input_shape=(timesteps, n_features)))\n",
    "    #model.add(Dense(1))\n",
    "    #model.compile(optimizer='adam', loss='mean_squared_error')\n",
    "    \n",
    "    \n",
    "    input_layer = Input(shape=(timesteps, n_features))\n",
    "    lstm_output = LSTM(64, activation='relu')(input_layer)\n",
    "    output_layer = Dense(output_dim)(lstm_output)\n",
    "    model = Model(inputs=input_layer,outputs=output_layer)\n",
    "    model.compile(optimizer='adam', loss='mean_squared_error')\n",
    "    model.fit(X_train, y_train, epochs=epochs, batch_size=batch_size)\n",
    "    \n",
    "    X_test_adj = X_test.reshape((-1,timesteps,n_features,1))\n",
    "    y_pred = model.predict(X_test_adj)\n",
    "    \n",
    "    return y_pred"
   ]
  },
  {
   "cell_type": "code",
   "execution_count": 637,
   "metadata": {},
   "outputs": [
    {
     "data": {
      "text/plain": [
       "4497"
      ]
     },
     "execution_count": 637,
     "metadata": {},
     "output_type": "execute_result"
    }
   ],
   "source": [
    "len(X_train)"
   ]
  },
  {
   "cell_type": "code",
   "execution_count": 638,
   "metadata": {},
   "outputs": [],
   "source": [
    "from keras.layers import Conv1D, Conv2D, Flatten, concatenate, MaxPooling1D, MaxPooling2D, Bidirectional, MaxPooling2D, TimeDistributed\n",
    "# Combined Model: CNN + LSTM\n",
    "\n",
    "def combined_model(X_train,y_train,X_test):\n",
    "    \n",
    "    input_dim = X_train.shape[-1]\n",
    "    X_train_adj = X_train.reshape((-1,timesteps,input_dim,1))\n",
    "    \n",
    "    combined_model = Sequential()\n",
    "    '''cnn'''\n",
    "    combined_model.add(TimeDistributed(Conv1D(filters = 20, kernel_size = (2,), activation = 'relu'),input_shape=(timesteps,input_dim, 1)))\n",
    "    combined_model.add(TimeDistributed(Flatten()))\n",
    "    combined_model.add(Dense(32, activation='relu'))\n",
    "\n",
    "    '''lstm'''\n",
    "    combined_model.add(LSTM(units, activation='relu',dropout=0.1))\n",
    "    combined_model.add(Dense(output_dim))\n",
    "    combined_model.compile(optimizer='adam', loss='mean_squared_error')\n",
    "    \n",
    "    combined_model.fit(X_train_adj, y_train, epochs=epochs, batch_size=batch_size)\n",
    "    \n",
    "    X_test_adj = X_test.reshape((-1,timesteps,input_dim,1))\n",
    "    y_pred = combined_model.predict(X_test_adj)\n",
    "    \n",
    "    return y_pred"
   ]
  },
  {
   "cell_type": "code",
   "execution_count": 639,
   "metadata": {},
   "outputs": [
    {
     "name": "stdout",
     "output_type": "stream",
     "text": [
      "Epoch 1/50\n",
      "180/180 [==============================] - 11s 35ms/step - loss: 9.2240e-04\n",
      "Epoch 2/50\n",
      "180/180 [==============================] - 5s 26ms/step - loss: 1.5359e-04\n",
      "Epoch 3/50\n",
      "180/180 [==============================] - 4s 21ms/step - loss: 1.2639e-04\n",
      "Epoch 4/50\n",
      "180/180 [==============================] - 7s 40ms/step - loss: 1.0814e-04\n",
      "Epoch 5/50\n",
      "180/180 [==============================] - 7s 39ms/step - loss: 1.1391e-04\n",
      "Epoch 6/50\n",
      "180/180 [==============================] - 6s 33ms/step - loss: 1.0765e-04\n",
      "Epoch 7/50\n",
      "180/180 [==============================] - 4s 24ms/step - loss: 1.0105e-04\n",
      "Epoch 8/50\n",
      "180/180 [==============================] - 4s 22ms/step - loss: 1.0065e-04\n",
      "Epoch 9/50\n",
      "180/180 [==============================] - 9s 51ms/step - loss: 9.4917e-05\n",
      "Epoch 10/50\n",
      "180/180 [==============================] - 7s 39ms/step - loss: 9.7324e-05\n",
      "Epoch 11/50\n",
      "180/180 [==============================] - 5s 27ms/step - loss: 8.6163e-05\n",
      "Epoch 12/50\n",
      "180/180 [==============================] - 5s 26ms/step - loss: 9.4237e-05\n",
      "Epoch 13/50\n",
      "180/180 [==============================] - 8s 44ms/step - loss: 9.5733e-05\n",
      "Epoch 14/50\n",
      "180/180 [==============================] - 7s 40ms/step - loss: 9.0126e-05\n",
      "Epoch 15/50\n",
      "180/180 [==============================] - 7s 37ms/step - loss: 9.1745e-05\n",
      "Epoch 16/50\n",
      "180/180 [==============================] - 5s 27ms/step - loss: 9.1435e-05\n",
      "Epoch 17/50\n",
      "180/180 [==============================] - 11s 60ms/step - loss: 8.6910e-05\n",
      "Epoch 18/50\n",
      "180/180 [==============================] - 7s 37ms/step - loss: 8.8649e-05\n",
      "Epoch 19/50\n",
      "180/180 [==============================] - 5s 27ms/step - loss: 8.1870e-05\n",
      "Epoch 20/50\n",
      "180/180 [==============================] - 4s 22ms/step - loss: 9.9557e-05\n",
      "Epoch 21/50\n",
      "180/180 [==============================] - 8s 44ms/step - loss: 8.4584e-05\n",
      "Epoch 22/50\n",
      "180/180 [==============================] - 11s 59ms/step - loss: 7.8650e-05\n",
      "Epoch 23/50\n",
      "180/180 [==============================] - 6s 33ms/step - loss: 8.7763e-05\n",
      "Epoch 24/50\n",
      "180/180 [==============================] - 3s 17ms/step - loss: 8.9164e-05\n",
      "Epoch 25/50\n",
      "180/180 [==============================] - 11s 64ms/step - loss: 8.5027e-05\n",
      "Epoch 26/50\n",
      "180/180 [==============================] - 10s 53ms/step - loss: 7.6777e-05\n",
      "Epoch 27/50\n",
      "180/180 [==============================] - 5s 27ms/step - loss: 7.6601e-05\n",
      "Epoch 28/50\n",
      "180/180 [==============================] - 9s 53ms/step - loss: 8.5249e-05\n",
      "Epoch 29/50\n",
      "180/180 [==============================] - 7s 40ms/step - loss: 9.2932e-05\n",
      "Epoch 30/50\n",
      "180/180 [==============================] - 5s 28ms/step - loss: 7.5738e-05\n",
      "Epoch 31/50\n",
      "180/180 [==============================] - 4s 22ms/step - loss: 7.7122e-05\n",
      "Epoch 32/50\n",
      "180/180 [==============================] - 5s 30ms/step - loss: 7.6500e-05\n",
      "Epoch 33/50\n",
      "180/180 [==============================] - 7s 40ms/step - loss: 7.9853e-05\n",
      "Epoch 34/50\n",
      "180/180 [==============================] - 6s 35ms/step - loss: 8.3448e-05\n",
      "Epoch 35/50\n",
      "180/180 [==============================] - 5s 27ms/step - loss: 7.8085e-05\n",
      "Epoch 36/50\n",
      "180/180 [==============================] - 4s 21ms/step - loss: 7.7696e-05\n",
      "Epoch 37/50\n",
      "180/180 [==============================] - 6s 35ms/step - loss: 7.4833e-05\n",
      "Epoch 38/50\n",
      "180/180 [==============================] - 7s 39ms/step - loss: 7.4278e-05\n",
      "Epoch 39/50\n",
      "180/180 [==============================] - 6s 32ms/step - loss: 7.3573e-05\n",
      "Epoch 40/50\n",
      "180/180 [==============================] - 5s 26ms/step - loss: 7.8631e-05\n",
      "Epoch 41/50\n",
      "180/180 [==============================] - 6s 33ms/step - loss: 7.6806e-05\n",
      "Epoch 42/50\n",
      "180/180 [==============================] - 13s 74ms/step - loss: 7.4138e-05\n",
      "Epoch 43/50\n",
      "180/180 [==============================] - 6s 32ms/step - loss: 8.6960e-05\n",
      "Epoch 44/50\n",
      "180/180 [==============================] - 4s 22ms/step - loss: 7.1010e-05\n",
      "Epoch 45/50\n",
      "180/180 [==============================] - 8s 44ms/step - loss: 7.4004e-05\n",
      "Epoch 46/50\n",
      "180/180 [==============================] - 7s 39ms/step - loss: 7.0464e-05\n",
      "Epoch 47/50\n",
      "180/180 [==============================] - 6s 31ms/step - loss: 7.2907e-05\n",
      "Epoch 48/50\n",
      "180/180 [==============================] - 4s 24ms/step - loss: 7.4396e-05\n",
      "Epoch 49/50\n",
      "180/180 [==============================] - 4s 21ms/step - loss: 8.9626e-05\n",
      "Epoch 50/50\n",
      "180/180 [==============================] - 9s 47ms/step - loss: 7.4598e-05\n",
      "35/35 [==============================] - 2s 20ms/step\n"
     ]
    }
   ],
   "source": [
    "pred_lstm = lstm_model(X_train,y_train,X_test)"
   ]
  },
  {
   "cell_type": "code",
   "execution_count": 640,
   "metadata": {},
   "outputs": [
    {
     "data": {
      "text/plain": [
       "\"\\nlstm_history = pd.DataFrame(lstm_model.history)\\nlstm_history['epoch'] = lstm_model.epoch\\n\\nfig,ax = plt.subplots(1,figsize(8,6))\\nnum_epochs = model_history.shape[0]\\n\\nax.plot(np.arrange(0,num_epochs),lstm_history['mae'],label='Training MAE')\\nax.plot(np.arrange(0,num_epochs),lstm_history['val_mae'],label='Validation MAE')\\nax.legend()\\n\\nplt.tight_layout()\\nplt.show()\\n\""
      ]
     },
     "execution_count": 640,
     "metadata": {},
     "output_type": "execute_result"
    }
   ],
   "source": [
    "'''\n",
    "lstm_history = pd.DataFrame(lstm_model.history)\n",
    "lstm_history['epoch'] = lstm_model.epoch\n",
    "\n",
    "fig,ax = plt.subplots(1,figsize(8,6))\n",
    "num_epochs = model_history.shape[0]\n",
    "\n",
    "ax.plot(np.arrange(0,num_epochs),lstm_history['mae'],label='Training MAE')\n",
    "ax.plot(np.arrange(0,num_epochs),lstm_history['val_mae'],label='Validation MAE')\n",
    "ax.legend()\n",
    "\n",
    "plt.tight_layout()\n",
    "plt.show()\n",
    "'''"
   ]
  },
  {
   "cell_type": "code",
   "execution_count": 641,
   "metadata": {},
   "outputs": [],
   "source": [
    "scaler.fit_transform(pd.DataFrame(test['Close'].values))\n",
    "\n",
    "pred_lstm = scaler.inverse_transform(pred_lstm)\n",
    "# denormalization\n",
    "y_test = scaler.inverse_transform([y_test])"
   ]
  },
  {
   "cell_type": "code",
   "execution_count": 642,
   "metadata": {
    "id": "biUTCpM3Cn2I"
   },
   "outputs": [],
   "source": [
    "# pred_combined = combined_model(X_train,y_train,X_test)"
   ]
  },
  {
   "cell_type": "code",
   "execution_count": 643,
   "metadata": {
    "id": "biUTCpM3Cn2I"
   },
   "outputs": [],
   "source": [
    "# scaler.fit_transform(pd.DataFrame(test['Close'].values))\n",
    "\n",
    "# pred_combined = scaler.inverse_transform(pred_combined)\n",
    "# y_test = scaler.inverse_transform([y_test])"
   ]
  },
  {
   "cell_type": "code",
   "execution_count": 644,
   "metadata": {},
   "outputs": [],
   "source": [
    "df_lstm = pd.DataFrame()\n",
    "df_lstm['Date'] = df['Date'][int(len(df_adj)*0.8)+timesteps:].reset_index(drop=True)\n",
    "df_lstm['Test'] = y_test[0]\n",
    "df_lstm['Prediction'] = pred_lstm.reshape(1,-1)[0]"
   ]
  },
  {
   "cell_type": "code",
   "execution_count": 645,
   "metadata": {},
   "outputs": [
    {
     "data": {
      "text/html": [
       "<div>\n",
       "<style scoped>\n",
       "    .dataframe tbody tr th:only-of-type {\n",
       "        vertical-align: middle;\n",
       "    }\n",
       "\n",
       "    .dataframe tbody tr th {\n",
       "        vertical-align: top;\n",
       "    }\n",
       "\n",
       "    .dataframe thead th {\n",
       "        text-align: right;\n",
       "    }\n",
       "</style>\n",
       "<table border=\"1\" class=\"dataframe\">\n",
       "  <thead>\n",
       "    <tr style=\"text-align: right;\">\n",
       "      <th></th>\n",
       "      <th>Date</th>\n",
       "      <th>Test</th>\n",
       "      <th>Prediction</th>\n",
       "    </tr>\n",
       "  </thead>\n",
       "  <tbody>\n",
       "    <tr>\n",
       "      <th>0</th>\n",
       "      <td>2018-02-13</td>\n",
       "      <td>38.236462</td>\n",
       "      <td>37.632927</td>\n",
       "    </tr>\n",
       "    <tr>\n",
       "      <th>1</th>\n",
       "      <td>2018-02-14</td>\n",
       "      <td>38.158588</td>\n",
       "      <td>37.884190</td>\n",
       "    </tr>\n",
       "    <tr>\n",
       "      <th>2</th>\n",
       "      <td>2018-02-15</td>\n",
       "      <td>38.746975</td>\n",
       "      <td>37.839230</td>\n",
       "    </tr>\n",
       "    <tr>\n",
       "      <th>3</th>\n",
       "      <td>2018-02-16</td>\n",
       "      <td>38.920033</td>\n",
       "      <td>38.229389</td>\n",
       "    </tr>\n",
       "    <tr>\n",
       "      <th>4</th>\n",
       "      <td>2018-02-20</td>\n",
       "      <td>38.063416</td>\n",
       "      <td>38.518906</td>\n",
       "    </tr>\n",
       "    <tr>\n",
       "      <th>...</th>\n",
       "      <td>...</td>\n",
       "      <td>...</td>\n",
       "      <td>...</td>\n",
       "    </tr>\n",
       "    <tr>\n",
       "      <th>1097</th>\n",
       "      <td>2022-06-23</td>\n",
       "      <td>61.880001</td>\n",
       "      <td>60.548256</td>\n",
       "    </tr>\n",
       "    <tr>\n",
       "      <th>1098</th>\n",
       "      <td>2022-06-24</td>\n",
       "      <td>63.040001</td>\n",
       "      <td>61.170635</td>\n",
       "    </tr>\n",
       "    <tr>\n",
       "      <th>1099</th>\n",
       "      <td>2022-06-27</td>\n",
       "      <td>62.910000</td>\n",
       "      <td>62.118401</td>\n",
       "    </tr>\n",
       "    <tr>\n",
       "      <th>1100</th>\n",
       "      <td>2022-06-28</td>\n",
       "      <td>62.279999</td>\n",
       "      <td>62.293507</td>\n",
       "    </tr>\n",
       "    <tr>\n",
       "      <th>1101</th>\n",
       "      <td>2022-06-29</td>\n",
       "      <td>62.730000</td>\n",
       "      <td>62.011414</td>\n",
       "    </tr>\n",
       "  </tbody>\n",
       "</table>\n",
       "<p>1102 rows × 3 columns</p>\n",
       "</div>"
      ],
      "text/plain": [
       "           Date       Test  Prediction\n",
       "0    2018-02-13  38.236462   37.632927\n",
       "1    2018-02-14  38.158588   37.884190\n",
       "2    2018-02-15  38.746975   37.839230\n",
       "3    2018-02-16  38.920033   38.229389\n",
       "4    2018-02-20  38.063416   38.518906\n",
       "...         ...        ...         ...\n",
       "1097 2022-06-23  61.880001   60.548256\n",
       "1098 2022-06-24  63.040001   61.170635\n",
       "1099 2022-06-27  62.910000   62.118401\n",
       "1100 2022-06-28  62.279999   62.293507\n",
       "1101 2022-06-29  62.730000   62.011414\n",
       "\n",
       "[1102 rows x 3 columns]"
      ]
     },
     "execution_count": 645,
     "metadata": {},
     "output_type": "execute_result"
    }
   ],
   "source": [
    "df_lstm"
   ]
  },
  {
   "cell_type": "code",
   "execution_count": 646,
   "metadata": {
    "colab": {
     "base_uri": "https://localhost:8080/",
     "height": 483
    },
    "id": "jm2xtCR-DPVL",
    "outputId": "1e969de3-5695-4def-d330-e3fee450dfec"
   },
   "outputs": [
    {
     "data": {
      "image/png": "[encoded data removed]",
      "text/plain": [
       "<Figure size 720x576 with 1 Axes>"
      ]
     },
     "metadata": {
      "needs_background": "light"
     },
     "output_type": "display_data"
    }
   ],
   "source": [
    "# two models visualization and comparison\n",
    "\n",
    "# LSTM model\n",
    "plt.figure(figsize=(10,8))\n",
    "x = df_lstm['Date']\n",
    "plt.plot(x, df_lstm['Test'], label=\"Real Closing Price\")\n",
    "plt.plot(x, df_lstm['Prediction'], label=\"Predicted Closing Price\")\n",
    "plt.legend(loc='upper left', bbox_to_anchor=(0.05, 0.95))\n",
    "plt.title('LSTM Model: Coca-Cola Stock Price Prediction - 30day')\n",
    "\n",
    "plt.show()"
   ]
  },
  {
   "cell_type": "markdown",
   "metadata": {},
   "source": [
    "## Evaluation"
   ]
  },
  {
   "cell_type": "code",
   "execution_count": 647,
   "metadata": {},
   "outputs": [],
   "source": [
    "from sklearn.metrics import mean_squared_error\n",
    "from sklearn.metrics import mean_absolute_error\n",
    "from sklearn.metrics import mean_absolute_percentage_error"
   ]
  },
  {
   "cell_type": "code",
   "execution_count": 648,
   "metadata": {},
   "outputs": [],
   "source": [
    "# find each year end index\n",
    "year_idx = []\n",
    "year_idx.append(0)\n",
    "for i in range(len(df_lstm)-1):\n",
    "    if df_lstm['Date'][i].year != df_lstm['Date'][i+1].year:\n",
    "        year_idx.append(i+1)\n",
    "year_idx.append(-1)"
   ]
  },
  {
   "cell_type": "code",
   "execution_count": 649,
   "metadata": {},
   "outputs": [
    {
     "data": {
      "text/plain": [
       "[0, 222, 474, 727, 979, -1]"
      ]
     },
     "execution_count": 649,
     "metadata": {},
     "output_type": "execute_result"
    }
   ],
   "source": [
    "year_idx"
   ]
  },
  {
   "cell_type": "code",
   "execution_count": 650,
   "metadata": {},
   "outputs": [],
   "source": [
    "def evaluation_tbl(df,year_idx):\n",
    "    summary = pd.DataFrame()\n",
    "    summary['Date'] = np.unique(pd.DatetimeIndex(df['Date']).year) \n",
    "    summary = summary.set_index('Date')\n",
    "    \n",
    "    rmse = []\n",
    "    mae = []\n",
    "    mape = []\n",
    "    \n",
    "    for i in range(len(year_idx)-1):\n",
    "        \n",
    "        test = df['Test'][year_idx[i]:year_idx[i+1]]\n",
    "        pred = df['Prediction'][year_idx[i]:year_idx[i+1]]\n",
    "        \n",
    "        # mean squared error\n",
    "        rmse.append(round(np.sqrt(mean_squared_error(test, pred)),3))\n",
    "        mae.append(round(mean_absolute_error(test, pred),3))\n",
    "        mape.append('{:.2%}'.format(mean_absolute_percentage_error(test, pred)))\n",
    "    \n",
    "    summary['RMSE']=rmse\n",
    "    summary['MAE']=mae\n",
    "    summary['MAPE']=mape\n",
    "    return summary"
   ]
  },
  {
   "cell_type": "code",
   "execution_count": 651,
   "metadata": {},
   "outputs": [
    {
     "data": {
      "text/html": [
       "<div>\n",
       "<style scoped>\n",
       "    .dataframe tbody tr th:only-of-type {\n",
       "        vertical-align: middle;\n",
       "    }\n",
       "\n",
       "    .dataframe tbody tr th {\n",
       "        vertical-align: top;\n",
       "    }\n",
       "\n",
       "    .dataframe thead th {\n",
       "        text-align: right;\n",
       "    }\n",
       "</style>\n",
       "<table border=\"1\" class=\"dataframe\">\n",
       "  <thead>\n",
       "    <tr style=\"text-align: right;\">\n",
       "      <th></th>\n",
       "      <th>RMSE</th>\n",
       "      <th>MAE</th>\n",
       "      <th>MAPE</th>\n",
       "    </tr>\n",
       "    <tr>\n",
       "      <th>Date</th>\n",
       "      <th></th>\n",
       "      <th></th>\n",
       "      <th></th>\n",
       "    </tr>\n",
       "  </thead>\n",
       "  <tbody>\n",
       "    <tr>\n",
       "      <th>2018</th>\n",
       "      <td>0.559</td>\n",
       "      <td>0.465</td>\n",
       "      <td>1.15%</td>\n",
       "    </tr>\n",
       "    <tr>\n",
       "      <th>2019</th>\n",
       "      <td>0.693</td>\n",
       "      <td>0.560</td>\n",
       "      <td>1.21%</td>\n",
       "    </tr>\n",
       "    <tr>\n",
       "      <th>2020</th>\n",
       "      <td>1.112</td>\n",
       "      <td>0.836</td>\n",
       "      <td>1.82%</td>\n",
       "    </tr>\n",
       "    <tr>\n",
       "      <th>2021</th>\n",
       "      <td>0.704</td>\n",
       "      <td>0.590</td>\n",
       "      <td>1.12%</td>\n",
       "    </tr>\n",
       "    <tr>\n",
       "      <th>2022</th>\n",
       "      <td>1.065</td>\n",
       "      <td>0.869</td>\n",
       "      <td>1.41%</td>\n",
       "    </tr>\n",
       "  </tbody>\n",
       "</table>\n",
       "</div>"
      ],
      "text/plain": [
       "       RMSE    MAE   MAPE\n",
       "Date                     \n",
       "2018  0.559  0.465  1.15%\n",
       "2019  0.693  0.560  1.21%\n",
       "2020  1.112  0.836  1.82%\n",
       "2021  0.704  0.590  1.12%\n",
       "2022  1.065  0.869  1.41%"
      ]
     },
     "execution_count": 651,
     "metadata": {},
     "output_type": "execute_result"
    }
   ],
   "source": [
    "# LSTM evaluation\n",
    "lstm_summary = evaluation_tbl(df_lstm,year_idx)\n",
    "lstm_summary"
   ]
  },
  {
   "cell_type": "code",
   "execution_count": 652,
   "metadata": {},
   "outputs": [],
   "source": [
    "count = 0\n",
    "for i in range(len(df_lstm)-1):\n",
    "    pred_diff = df_lstm['Prediction'][i+1] - df_lstm['Prediction'][i]\n",
    "    test_diff = df_lstm['Test'][i+1] - df_lstm['Test'][i]\n",
    "    if pred_diff <= 0 and test_diff <= 0:\n",
    "        count += 1\n",
    "    if pred_diff > 0 and test_diff > 0:\n",
    "        count += 1"
   ]
  },
  {
   "cell_type": "code",
   "execution_count": 653,
   "metadata": {},
   "outputs": [
    {
     "data": {
      "text/plain": [
       "0.4945553539019964"
      ]
     },
     "execution_count": 653,
     "metadata": {},
     "output_type": "execute_result"
    }
   ],
   "source": [
    "count/len(df_lstm)"
   ]
  },
  {
   "cell_type": "code",
   "execution_count": 654,
   "metadata": {},
   "outputs": [],
   "source": [
    "# from dataframe_to_image import dataframe_to_image\n",
    "# dataframe_to_image.convert(summary,visualisation_library='matplotlib')"
   ]
  },
  {
   "cell_type": "code",
   "execution_count": 655,
   "metadata": {},
   "outputs": [],
   "source": [
    "# pred_combined.to_excel(\"sp_pred.xlsx\", sheet_name='Sheet1')"
   ]
  }
 ],
 "metadata": {
  "colab": {
   "collapsed_sections": [],
   "name": "ML based investment strategy.ipynb",
   "provenance": []
  },
  "kernelspec": {
   "display_name": "Python 3 (ipykernel)",
   "language": "python",
   "name": "python3"
  },
  "language_info": {
   "codemirror_mode": {
    "name": "ipython",
    "version": 3
   },
   "file_extension": ".py",
   "mimetype": "text/x-python",
   "name": "python",
   "nbconvert_exporter": "python",
   "pygments_lexer": "ipython3",
   "version": "3.9.12"
  }
 },
 "nbformat": 4,
 "nbformat_minor": 1
}
